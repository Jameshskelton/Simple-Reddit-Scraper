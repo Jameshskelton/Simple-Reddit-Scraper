{
 "cells": [
  {
   "cell_type": "code",
   "execution_count": 68,
   "metadata": {},
   "outputs": [],
   "source": [
    "#Libraries \n",
    "import praw\n",
    "import pandas as pd\n",
    "from datetime import datetime as dt\n",
    "import time, calendar\n",
    "import psycopg2\n",
    "import time\n",
    "import pymongo\n",
    "starttime=time.time()\n",
    "import matplotlib.pyplot as plt\n",
    "# import matplotlib.pyplot as plt\n",
    "import numpy as np\n",
    "from matplotlib import colors\n",
    "from matplotlib.ticker import PercentFormatter\n",
    "import scipy.stats as stats\n",
    "from scipy.stats import linregress\n",
    "\n",
    "\n"
   ]
  },
  {
   "cell_type": "code",
   "execution_count": 10,
   "metadata": {},
   "outputs": [
    {
     "data": {
      "text/html": [
       "<div>\n",
       "<style scoped>\n",
       "    .dataframe tbody tr th:only-of-type {\n",
       "        vertical-align: middle;\n",
       "    }\n",
       "\n",
       "    .dataframe tbody tr th {\n",
       "        vertical-align: top;\n",
       "    }\n",
       "\n",
       "    .dataframe thead th {\n",
       "        text-align: right;\n",
       "    }\n",
       "</style>\n",
       "<table border=\"1\" class=\"dataframe\">\n",
       "  <thead>\n",
       "    <tr style=\"text-align: right;\">\n",
       "      <th></th>\n",
       "      <th>Unnamed: 0</th>\n",
       "      <th>ID</th>\n",
       "      <th>Title</th>\n",
       "      <th>Body</th>\n",
       "      <th>Score</th>\n",
       "      <th>URL</th>\n",
       "      <th>Comments</th>\n",
       "      <th>Created</th>\n",
       "    </tr>\n",
       "  </thead>\n",
       "  <tbody>\n",
       "    <tr>\n",
       "      <td>0</td>\n",
       "      <td>0</td>\n",
       "      <td>ejl023</td>\n",
       "      <td>Perfect timing</td>\n",
       "      <td>NaN</td>\n",
       "      <td>17413</td>\n",
       "      <td>https://v.redd.it/ayzsxc2tfm841</td>\n",
       "      <td>315</td>\n",
       "      <td>2020-01-04 04:14:06</td>\n",
       "    </tr>\n",
       "    <tr>\n",
       "      <td>1</td>\n",
       "      <td>1</td>\n",
       "      <td>ejk48x</td>\n",
       "      <td>TIL Research shows that children as young as 4...</td>\n",
       "      <td>NaN</td>\n",
       "      <td>23802</td>\n",
       "      <td>https://news.yale.edu/2018/07/23/even-4-year-o...</td>\n",
       "      <td>1116</td>\n",
       "      <td>2020-01-04 03:14:08</td>\n",
       "    </tr>\n",
       "    <tr>\n",
       "      <td>2</td>\n",
       "      <td>2</td>\n",
       "      <td>ejk3qx</td>\n",
       "      <td>In The Lego Movie (2014) Benny the spaceman ha...</td>\n",
       "      <td>NaN</td>\n",
       "      <td>18413</td>\n",
       "      <td>https://i.redd.it/1yf0ofvx4m841.jpg</td>\n",
       "      <td>264</td>\n",
       "      <td>2020-01-04 03:13:11</td>\n",
       "    </tr>\n",
       "    <tr>\n",
       "      <td>3</td>\n",
       "      <td>3</td>\n",
       "      <td>ejjmjr</td>\n",
       "      <td>Recommendations!</td>\n",
       "      <td>NaN</td>\n",
       "      <td>24502</td>\n",
       "      <td>https://i.redd.it/j6e4ge34zl841.jpg</td>\n",
       "      <td>101</td>\n",
       "      <td>2020-01-04 02:40:32</td>\n",
       "    </tr>\n",
       "    <tr>\n",
       "      <td>4</td>\n",
       "      <td>4</td>\n",
       "      <td>ejkcib</td>\n",
       "      <td>New Years photobomb!</td>\n",
       "      <td>NaN</td>\n",
       "      <td>11507</td>\n",
       "      <td>https://i.redd.it/1dashplv7m841.jpg</td>\n",
       "      <td>173</td>\n",
       "      <td>2020-01-04 03:29:40</td>\n",
       "    </tr>\n",
       "    <tr>\n",
       "      <td>...</td>\n",
       "      <td>...</td>\n",
       "      <td>...</td>\n",
       "      <td>...</td>\n",
       "      <td>...</td>\n",
       "      <td>...</td>\n",
       "      <td>...</td>\n",
       "      <td>...</td>\n",
       "      <td>...</td>\n",
       "    </tr>\n",
       "    <tr>\n",
       "      <td>6268834</td>\n",
       "      <td>7172467</td>\n",
       "      <td>el49up</td>\n",
       "      <td>umm, oopsie!</td>\n",
       "      <td>NaN</td>\n",
       "      <td>344</td>\n",
       "      <td>https://i.redd.it/rldx31cqi9941.jpg</td>\n",
       "      <td>11</td>\n",
       "      <td>2020-01-07 09:51:27</td>\n",
       "    </tr>\n",
       "    <tr>\n",
       "      <td>6268835</td>\n",
       "      <td>7172468</td>\n",
       "      <td>elbkks</td>\n",
       "      <td>So do you want the green meth or the blue meth?</td>\n",
       "      <td>NaN</td>\n",
       "      <td>43</td>\n",
       "      <td>https://i.redd.it/2wuua1bfzc941.jpg</td>\n",
       "      <td>4</td>\n",
       "      <td>2020-01-07 21:30:22</td>\n",
       "    </tr>\n",
       "    <tr>\n",
       "      <td>6268836</td>\n",
       "      <td>7172469</td>\n",
       "      <td>elb5dc</td>\n",
       "      <td>Ah yes happened yesterday</td>\n",
       "      <td>NaN</td>\n",
       "      <td>45</td>\n",
       "      <td>https://i.redd.it/i82z1sx7sc941.jpg</td>\n",
       "      <td>1</td>\n",
       "      <td>2020-01-07 20:49:58</td>\n",
       "    </tr>\n",
       "    <tr>\n",
       "      <td>6268837</td>\n",
       "      <td>7172471</td>\n",
       "      <td>elbngo</td>\n",
       "      <td>Me Trying to sleep</td>\n",
       "      <td>NaN</td>\n",
       "      <td>40</td>\n",
       "      <td>https://i.redd.it/lflndbnq0d941.png</td>\n",
       "      <td>1</td>\n",
       "      <td>2020-01-07 21:37:44</td>\n",
       "    </tr>\n",
       "    <tr>\n",
       "      <td>6268838</td>\n",
       "      <td>7172472</td>\n",
       "      <td>elarp9</td>\n",
       "      <td>No I’m not proud of the quality. Yes I made it...</td>\n",
       "      <td>NaN</td>\n",
       "      <td>50</td>\n",
       "      <td>https://i.redd.it/yu4not6klc941.jpg</td>\n",
       "      <td>1</td>\n",
       "      <td>2020-01-07 20:12:39</td>\n",
       "    </tr>\n",
       "  </tbody>\n",
       "</table>\n",
       "<p>6268839 rows × 8 columns</p>\n",
       "</div>"
      ],
      "text/plain": [
       "         Unnamed: 0      ID  \\\n",
       "0                 0  ejl023   \n",
       "1                 1  ejk48x   \n",
       "2                 2  ejk3qx   \n",
       "3                 3  ejjmjr   \n",
       "4                 4  ejkcib   \n",
       "...             ...     ...   \n",
       "6268834     7172467  el49up   \n",
       "6268835     7172468  elbkks   \n",
       "6268836     7172469  elb5dc   \n",
       "6268837     7172471  elbngo   \n",
       "6268838     7172472  elarp9   \n",
       "\n",
       "                                                     Title Body  Score  \\\n",
       "0                                           Perfect timing  NaN  17413   \n",
       "1        TIL Research shows that children as young as 4...  NaN  23802   \n",
       "2        In The Lego Movie (2014) Benny the spaceman ha...  NaN  18413   \n",
       "3                                         Recommendations!  NaN  24502   \n",
       "4                                     New Years photobomb!  NaN  11507   \n",
       "...                                                    ...  ...    ...   \n",
       "6268834                                       umm, oopsie!  NaN    344   \n",
       "6268835    So do you want the green meth or the blue meth?  NaN     43   \n",
       "6268836                          Ah yes happened yesterday  NaN     45   \n",
       "6268837                                 Me Trying to sleep  NaN     40   \n",
       "6268838  No I’m not proud of the quality. Yes I made it...  NaN     50   \n",
       "\n",
       "                                                       URL  Comments  \\\n",
       "0                          https://v.redd.it/ayzsxc2tfm841       315   \n",
       "1        https://news.yale.edu/2018/07/23/even-4-year-o...      1116   \n",
       "2                      https://i.redd.it/1yf0ofvx4m841.jpg       264   \n",
       "3                      https://i.redd.it/j6e4ge34zl841.jpg       101   \n",
       "4                      https://i.redd.it/1dashplv7m841.jpg       173   \n",
       "...                                                    ...       ...   \n",
       "6268834                https://i.redd.it/rldx31cqi9941.jpg        11   \n",
       "6268835                https://i.redd.it/2wuua1bfzc941.jpg         4   \n",
       "6268836                https://i.redd.it/i82z1sx7sc941.jpg         1   \n",
       "6268837                https://i.redd.it/lflndbnq0d941.png         1   \n",
       "6268838                https://i.redd.it/yu4not6klc941.jpg         1   \n",
       "\n",
       "                    Created  \n",
       "0       2020-01-04 04:14:06  \n",
       "1       2020-01-04 03:14:08  \n",
       "2       2020-01-04 03:13:11  \n",
       "3       2020-01-04 02:40:32  \n",
       "4       2020-01-04 03:29:40  \n",
       "...                     ...  \n",
       "6268834 2020-01-07 09:51:27  \n",
       "6268835 2020-01-07 21:30:22  \n",
       "6268836 2020-01-07 20:49:58  \n",
       "6268837 2020-01-07 21:37:44  \n",
       "6268838 2020-01-07 20:12:39  \n",
       "\n",
       "[6268839 rows x 8 columns]"
      ]
     },
     "execution_count": 10,
     "metadata": {},
     "output_type": "execute_result"
    }
   ],
   "source": [
    "# Write file to dataFrame\n",
    "filepath = \"df_reddit.csv\"\n",
    "\n",
    "dataframereddit = pd.read_csv(filepath, sep = '\\t', encoding ='utf-8', parse_dates=['Created'])\n",
    "dataframereddit\n"
   ]
  },
  {
   "cell_type": "code",
   "execution_count": 8,
   "metadata": {},
   "outputs": [
    {
     "data": {
      "text/html": [
       "<div>\n",
       "<style scoped>\n",
       "    .dataframe tbody tr th:only-of-type {\n",
       "        vertical-align: middle;\n",
       "    }\n",
       "\n",
       "    .dataframe tbody tr th {\n",
       "        vertical-align: top;\n",
       "    }\n",
       "\n",
       "    .dataframe thead th {\n",
       "        text-align: right;\n",
       "    }\n",
       "</style>\n",
       "<table border=\"1\" class=\"dataframe\">\n",
       "  <thead>\n",
       "    <tr style=\"text-align: right;\">\n",
       "      <th></th>\n",
       "      <th>ID</th>\n",
       "      <th>Score</th>\n",
       "      <th>Comments</th>\n",
       "      <th>Created</th>\n",
       "    </tr>\n",
       "  </thead>\n",
       "  <tbody>\n",
       "    <tr>\n",
       "      <td>0</td>\n",
       "      <td>ejl023</td>\n",
       "      <td>17413</td>\n",
       "      <td>315</td>\n",
       "      <td>2020-01-04 04:14:06</td>\n",
       "    </tr>\n",
       "    <tr>\n",
       "      <td>1</td>\n",
       "      <td>ejk48x</td>\n",
       "      <td>23802</td>\n",
       "      <td>1116</td>\n",
       "      <td>2020-01-04 03:14:08</td>\n",
       "    </tr>\n",
       "    <tr>\n",
       "      <td>2</td>\n",
       "      <td>ejk3qx</td>\n",
       "      <td>18413</td>\n",
       "      <td>264</td>\n",
       "      <td>2020-01-04 03:13:11</td>\n",
       "    </tr>\n",
       "    <tr>\n",
       "      <td>3</td>\n",
       "      <td>ejjmjr</td>\n",
       "      <td>24502</td>\n",
       "      <td>101</td>\n",
       "      <td>2020-01-04 02:40:32</td>\n",
       "    </tr>\n",
       "    <tr>\n",
       "      <td>4</td>\n",
       "      <td>ejkcib</td>\n",
       "      <td>11507</td>\n",
       "      <td>173</td>\n",
       "      <td>2020-01-04 03:29:40</td>\n",
       "    </tr>\n",
       "    <tr>\n",
       "      <td>...</td>\n",
       "      <td>...</td>\n",
       "      <td>...</td>\n",
       "      <td>...</td>\n",
       "      <td>...</td>\n",
       "    </tr>\n",
       "    <tr>\n",
       "      <td>6268830</td>\n",
       "      <td>elbovy</td>\n",
       "      <td>43</td>\n",
       "      <td>2</td>\n",
       "      <td>2020-01-07 21:41:11</td>\n",
       "    </tr>\n",
       "    <tr>\n",
       "      <td>6268832</td>\n",
       "      <td>elbl79</td>\n",
       "      <td>43</td>\n",
       "      <td>1</td>\n",
       "      <td>2020-01-07 21:32:03</td>\n",
       "    </tr>\n",
       "    <tr>\n",
       "      <td>6268833</td>\n",
       "      <td>elbo8n</td>\n",
       "      <td>40</td>\n",
       "      <td>3</td>\n",
       "      <td>2020-01-07 21:39:39</td>\n",
       "    </tr>\n",
       "    <tr>\n",
       "      <td>6268835</td>\n",
       "      <td>elbkks</td>\n",
       "      <td>43</td>\n",
       "      <td>4</td>\n",
       "      <td>2020-01-07 21:30:22</td>\n",
       "    </tr>\n",
       "    <tr>\n",
       "      <td>6268836</td>\n",
       "      <td>elb5dc</td>\n",
       "      <td>45</td>\n",
       "      <td>1</td>\n",
       "      <td>2020-01-07 20:49:58</td>\n",
       "    </tr>\n",
       "  </tbody>\n",
       "</table>\n",
       "<p>69395 rows × 4 columns</p>\n",
       "</div>"
      ],
      "text/plain": [
       "             ID  Score  Comments             Created\n",
       "0        ejl023  17413       315 2020-01-04 04:14:06\n",
       "1        ejk48x  23802      1116 2020-01-04 03:14:08\n",
       "2        ejk3qx  18413       264 2020-01-04 03:13:11\n",
       "3        ejjmjr  24502       101 2020-01-04 02:40:32\n",
       "4        ejkcib  11507       173 2020-01-04 03:29:40\n",
       "...         ...    ...       ...                 ...\n",
       "6268830  elbovy     43         2 2020-01-07 21:41:11\n",
       "6268832  elbl79     43         1 2020-01-07 21:32:03\n",
       "6268833  elbo8n     40         3 2020-01-07 21:39:39\n",
       "6268835  elbkks     43         4 2020-01-07 21:30:22\n",
       "6268836  elb5dc     45         1 2020-01-07 20:49:58\n",
       "\n",
       "[69395 rows x 4 columns]"
      ]
     },
     "execution_count": 8,
     "metadata": {},
     "output_type": "execute_result"
    }
   ],
   "source": [
    "# Cleaning work: take out currently unneeded or messy columns 'Body', 'URL', 'Unnamed: 0', 'Title' \n",
    "# and then drop duplicates and any column missing values\n",
    "work = dataframereddit.copy()\n",
    "work.drop(['Body', 'URL', 'Unnamed: 0', 'Title'], axis=1, inplace = True)\n",
    "work.dropna(axis=0, how='any', thresh=None, subset=['Score', 'Comments', 'Created'] , inplace=True)\n",
    "work.drop_duplicates(subset = ['Created'], inplace = True)\n",
    "work\n"
   ]
  },
  {
   "cell_type": "code",
   "execution_count": 9,
   "metadata": {},
   "outputs": [
    {
     "data": {
      "text/html": [
       "<div>\n",
       "<style scoped>\n",
       "    .dataframe tbody tr th:only-of-type {\n",
       "        vertical-align: middle;\n",
       "    }\n",
       "\n",
       "    .dataframe tbody tr th {\n",
       "        vertical-align: top;\n",
       "    }\n",
       "\n",
       "    .dataframe thead th {\n",
       "        text-align: right;\n",
       "    }\n",
       "</style>\n",
       "<table border=\"1\" class=\"dataframe\">\n",
       "  <thead>\n",
       "    <tr style=\"text-align: right;\">\n",
       "      <th></th>\n",
       "      <th>Score</th>\n",
       "      <th>Comments</th>\n",
       "    </tr>\n",
       "  </thead>\n",
       "  <tbody>\n",
       "    <tr>\n",
       "      <td>count</td>\n",
       "      <td>69395.000000</td>\n",
       "      <td>69395.000000</td>\n",
       "    </tr>\n",
       "    <tr>\n",
       "      <td>mean</td>\n",
       "      <td>699.769321</td>\n",
       "      <td>27.236804</td>\n",
       "    </tr>\n",
       "    <tr>\n",
       "      <td>std</td>\n",
       "      <td>3485.502279</td>\n",
       "      <td>224.949867</td>\n",
       "    </tr>\n",
       "    <tr>\n",
       "      <td>min</td>\n",
       "      <td>35.000000</td>\n",
       "      <td>0.000000</td>\n",
       "    </tr>\n",
       "    <tr>\n",
       "      <td>25%</td>\n",
       "      <td>65.000000</td>\n",
       "      <td>3.000000</td>\n",
       "    </tr>\n",
       "    <tr>\n",
       "      <td>50%</td>\n",
       "      <td>91.000000</td>\n",
       "      <td>6.000000</td>\n",
       "    </tr>\n",
       "    <tr>\n",
       "      <td>75%</td>\n",
       "      <td>247.000000</td>\n",
       "      <td>16.000000</td>\n",
       "    </tr>\n",
       "    <tr>\n",
       "      <td>max</td>\n",
       "      <td>107874.000000</td>\n",
       "      <td>30699.000000</td>\n",
       "    </tr>\n",
       "  </tbody>\n",
       "</table>\n",
       "</div>"
      ],
      "text/plain": [
       "               Score      Comments\n",
       "count   69395.000000  69395.000000\n",
       "mean      699.769321     27.236804\n",
       "std      3485.502279    224.949867\n",
       "min        35.000000      0.000000\n",
       "25%        65.000000      3.000000\n",
       "50%        91.000000      6.000000\n",
       "75%       247.000000     16.000000\n",
       "max    107874.000000  30699.000000"
      ]
     },
     "execution_count": 9,
     "metadata": {},
     "output_type": "execute_result"
    }
   ],
   "source": [
    "# Important info: this contains some basic info to inform analyses\n",
    "work.describe()\n",
    "\n",
    "# work.mean()\n",
    "# Score avg = 699.77\n",
    "# Comments avg = 27.23\n",
    "# Total hours = 73:25:09\n",
    "# work.Score.max() = 107874\n",
    "# work.Score.min() = 35\n",
    "# comments min = 0\n",
    "# comments max = 30699\n",
    "# created max= 2020-01-06 21:41:52\n",
    "# Created min = 2020-01-03 07:04:51\n",
    "# work.Created.max()-work.Created.min() =  Timedelta('4 days 14:37:01')\n",
    "# After checking for data errors, i have removed things after 2020-01-06 8:30:00. I had \n",
    "# somehow scraped posts from those dates despite stopping to scrape at that max time\n",
    "# time delta = 2 days, 22 hour, 55 minutes and 9 seconds"
   ]
  },
  {
   "cell_type": "code",
   "execution_count": null,
   "metadata": {},
   "outputs": [],
   "source": []
  },
  {
   "cell_type": "code",
   "execution_count": 69,
   "metadata": {},
   "outputs": [
    {
     "name": "stderr",
     "output_type": "stream",
     "text": [
      "/Users/JamesSkelton/opt/anaconda3/lib/python3.7/site-packages/pandas/plotting/_matplotlib/converter.py:103: FutureWarning: Using an implicitly registered datetime converter for a matplotlib plotting method. The converter was registered by pandas on import. Future versions of pandas will require you to explicitly register matplotlib converters.\n",
      "\n",
      "To register the converters:\n",
      "\t>>> from pandas.plotting import register_matplotlib_converters\n",
      "\t>>> register_matplotlib_converters()\n",
      "  warnings.warn(msg, FutureWarning)\n"
     ]
    },
    {
     "data": {
      "image/png": "[encoded data removed]",
      "text/plain": [
       "<Figure size 1512x504 with 1 Axes>"
      ]
     },
     "metadata": {
      "needs_background": "light"
     },
     "output_type": "display_data"
    }
   ],
   "source": [
    "# Here we show a histogram by day of the counts of posts binned into hours. \n",
    "work.sort_values(by=['Score'], ascending = False, inplace = True)\n",
    "data = work.Created\n",
    "data1 = work.copy()\n",
    "data1.set_index('Score', inplace = True)\n",
    "data1.drop(['ID', 'Comments'], axis = 1, inplace = True)\n",
    "# plot\n",
    "fig, ax = plt.subplots(figsize=([21,7]))\n",
    "\n",
    "# # calculate bin centers\n",
    "entries1, edges1, _ = plt.hist(data1.Created, bins=109)\n",
    "bin_centers = 0.5 * (edges1[:-1] + edges1[1:])\n",
    "\n",
    "# # draw errorbars, use the sqrt error. \n",
    "plt.errorbar(bin_centers, entries1, yerr=np.sqrt(entries1), fmt='r.')\n",
    "\n",
    "# labels\n",
    "ax.set_xlabel('Day of the week (bins = total hours in period)')\n",
    "ax.set_ylabel('Count')\n",
    "\n",
    "ax.set_title('Average count of \"Hot\" Reddit posts by hour for the period \\n January 3rd, 2019 to January 8th, 2019')\n",
    "# ax.set_xticks(ticks=list(range(0,121))) \n",
    "# data after this period was wonky. won't be included in final analyses\n",
    "plt.xlim('2020-01-03 07:04:51', '2020-01-06 6:00:00')\n",
    "plt.show()\n",
    "\n"
   ]
  },
  {
   "cell_type": "code",
   "execution_count": 70,
   "metadata": {},
   "outputs": [],
   "source": [
    "# removed posts with score < than rounded average value for analyses\n",
    "\n",
    "scorework = work.copy()\n",
    "\n",
    "scorework = scorework[scorework['Score'] > 699]\n",
    "#convert created values to datetime\n",
    "scorework['Created'] = pd.to_datetime(work['Created'], errors='coerce')\n",
    "\n",
    "scorework.drop(['ID', 'Comments', 'Created'], axis=1, inplace = True)\n"
   ]
  },
  {
   "cell_type": "code",
   "execution_count": 71,
   "metadata": {},
   "outputs": [],
   "source": [
    "# removed posts with # of comments < than rounded average value for analyses\n",
    "commentwork = work.copy()\n",
    "\n",
    "commentwork = commentwork[commentwork['Comments'] > 27]\n",
    "#convert created values to datetime\n",
    "commentwork['Created'] = pd.to_datetime(work['Created'], errors='coerce')\n",
    "\n",
    "\n",
    "commentwork.drop(['ID', 'Score', 'Created'], axis=1, inplace = True)"
   ]
  },
  {
   "cell_type": "code",
   "execution_count": null,
   "metadata": {},
   "outputs": [],
   "source": []
  },
  {
   "cell_type": "code",
   "execution_count": 72,
   "metadata": {},
   "outputs": [
    {
     "data": {
      "text/plain": [
       "(291.3001973491556,\n",
       " 2.6088667007480966e-48,\n",
       " 23,\n",
       " array([[555.71474721, 464.70004846, 411.75399774, 329.05314166,\n",
       "         281.35793894, 248.54013891, 300.17347763, 290.98449362,\n",
       "         255.97884025, 247.22742691, 258.16669359, 278.29494427,\n",
       "         259.91697626, 220.97318688, 196.90680019, 178.96640284,\n",
       "         224.91132289, 233.22516556, 283.54579228, 315.92602164,\n",
       "         422.25569375, 575.40542723, 638.4156033 , 654.60571798],\n",
       "        [714.28525279, 597.29995154, 529.24600226, 422.94685834,\n",
       "         361.64206106, 319.45986109, 385.82652237, 374.01550638,\n",
       "         329.02115975, 317.77257309, 331.83330641, 357.70505573,\n",
       "         334.08302374, 284.02681312, 253.09319981, 230.03359716,\n",
       "         289.08867711, 299.77483444, 364.45420772, 406.07397836,\n",
       "         542.74430625, 739.59457277, 820.5843967 , 841.39428202]]))"
      ]
     },
     "execution_count": 72,
     "metadata": {},
     "output_type": "execute_result"
    }
   ],
   "source": [
    "# Analysis chi square work\n",
    "# alt Hypothesis: the values are not independetnt on one another\n",
    "# null h: the values are independently distributed\n",
    "\n",
    "\n",
    "Scorearray = scorework.groupby(work[\"Created\"].dt.hour).count().Score.values\n",
    "Commentarray = commentwork.groupby(work[\"Created\"].dt.hour).count().Comments.values\n",
    "\n",
    "# degrees of freedom = (#rows - 1)(#columns -1)\n",
    "stats.chi2_contingency([Scorearray, Commentarray])\n",
    "# Scorearray.sum()\n",
    "# Commentarray.sum()+Scorearray.sum()"
   ]
  },
  {
   "cell_type": "code",
   "execution_count": 46,
   "metadata": {},
   "outputs": [],
   "source": [
    "# Next step: do an analysis of the data to determine if there is a significant difference in \n",
    "# average score values in the beginning of the day, and the end of the day. then do the same for comments\n",
    "\n"
   ]
  },
  {
   "cell_type": "code",
   "execution_count": 74,
   "metadata": {},
   "outputs": [
    {
     "data": {
      "text/plain": [
       "8127"
      ]
     },
     "execution_count": 74,
     "metadata": {},
     "output_type": "execute_result"
    }
   ],
   "source": [
    "# removed posts with score < than rounded average value\n",
    "# TAGGED FOR REMOVAL, left here so i didnt have to scroll up\n",
    "scorework = work.copy()\n",
    "\n",
    "scorework = scorework[scorework['Score'] > 699]\n",
    "# x = work['Score']\n",
    "scorework['Created'] = pd.to_datetime(work['Created'], errors='coerce')\n",
    "\n",
    "scorework.drop(['ID', 'Comments', 'Created'], axis=1, inplace = True)\n",
    "len(scorework)\n"
   ]
  },
  {
   "cell_type": "code",
   "execution_count": 73,
   "metadata": {},
   "outputs": [
    {
     "data": {
      "text/plain": [
       "10446"
      ]
     },
     "execution_count": 73,
     "metadata": {},
     "output_type": "execute_result"
    }
   ],
   "source": [
    "# removed posts with # of comments < than rounded average value\n",
    "# TAGGED FOR REMOVAL\n",
    "commentwork = work.copy()\n",
    "\n",
    "commentwork = commentwork[commentwork['Comments'] > 27]\n",
    "# x = work['Score']\n",
    "commentwork['Created'] = pd.to_datetime(work['Created'], errors='coerce')\n",
    "\n",
    "\n",
    "commentwork.drop(['ID', 'Score', 'Created'], axis=1, inplace = True)\n",
    "len(commentwork)\n"
   ]
  },
  {
   "cell_type": "code",
   "execution_count": 75,
   "metadata": {},
   "outputs": [
    {
     "data": {
      "image/png": "[encoded data removed]",
      "text/plain": [
       "<Figure size 1080x360 with 1 Axes>"
      ]
     },
     "metadata": {
      "needs_background": "light"
     },
     "output_type": "display_data"
    }
   ],
   "source": [
    "# create dataframe from score and comment counts by hour, make an hour column to make x axis\n",
    "test_df = commentwork.groupby(work[\"Created\"].dt.hour).count()\n",
    "test_df['score']= scorework.groupby(work[\"Created\"].dt.hour).count()\n",
    "test_df['Created'] = list(range(0,24))\n",
    "\n",
    "#create plots\n",
    "\n",
    "fig, ax = plt.subplots(figsize=([15,5]))\n",
    "# plot lines between heights\n",
    "plt.plot(test_df.Created, test_df.score, color = 'black', alpha = 1, label = 'Score counts', linestyle='dashed', marker = '*', markerfacecolor='White')\n",
    "\n",
    "plt.plot(test_df.Created, test_df.Comments,color = 'black',alpha = 1, label = 'Comment counts', marker = 'P', markerfacecolor = 'Black')\n",
    "\n",
    "# plot bar charts\n",
    "rects1 = ax.bar(test_df.Created, test_df.score, color='r', alpha = .5)\n",
    "\n",
    "rects2 = ax.bar(test_df.Created, test_df.Comments, color = 'b', alpha= .5)\n",
    "\n",
    "# set labels\n",
    "ax.set_xlabel('Hour of Day')\n",
    "ax.set_ylabel('Count of total Score (red) and total count of Comments (purple)')\n",
    "ax.legend()\n",
    "ax.set_title(\"Comparison of counts of post's score (score>699) and number of \\n  post comments (comment count > 27) as a function of time in hours\")\n",
    "plt.show()"
   ]
  },
  {
   "cell_type": "code",
   "execution_count": 50,
   "metadata": {},
   "outputs": [
    {
     "data": {
      "text/plain": [
       "(291.3001973491556,\n",
       " 2.6088667007480966e-48,\n",
       " 23,\n",
       " array([[555.71474721, 464.70004846, 411.75399774, 329.05314166,\n",
       "         281.35793894, 248.54013891, 300.17347763, 290.98449362,\n",
       "         255.97884025, 247.22742691, 258.16669359, 278.29494427,\n",
       "         259.91697626, 220.97318688, 196.90680019, 178.96640284,\n",
       "         224.91132289, 233.22516556, 283.54579228, 315.92602164,\n",
       "         422.25569375, 575.40542723, 638.4156033 , 654.60571798],\n",
       "        [714.28525279, 597.29995154, 529.24600226, 422.94685834,\n",
       "         361.64206106, 319.45986109, 385.82652237, 374.01550638,\n",
       "         329.02115975, 317.77257309, 331.83330641, 357.70505573,\n",
       "         334.08302374, 284.02681312, 253.09319981, 230.03359716,\n",
       "         289.08867711, 299.77483444, 364.45420772, 406.07397836,\n",
       "         542.74430625, 739.59457277, 820.5843967 , 841.39428202]]))"
      ]
     },
     "execution_count": 50,
     "metadata": {},
     "output_type": "execute_result"
    }
   ],
   "source": [
    "# multinomial distribution chi square analysis\n",
    "# null hypothesis: the plot of highly commented posts per hour and the plot of highly scored posts per hour are independently distributed\n",
    "# alternative hypothesis: the two plots are dependent, and therefore affected by the same factors. \n",
    "\n",
    "\n",
    "\n",
    "# degrees of freedom = (#rows - 1)(#columns -1)\n",
    "stats.chi2_contingency([Scorearray, Commentarray])\n",
    "# NOTE: The null hypothesis for a chi-square independence test is that two categorical \n",
    "# variables are independent in some population\n",
    "\n",
    "# based on these findings (x2(23) = 83.676, p<.05), we can accept our alternate hypothesis that \n",
    "# the two plots are come from the distributions of two dependent variables. \n"
   ]
  },
  {
   "cell_type": "code",
   "execution_count": 76,
   "metadata": {},
   "outputs": [
    {
     "data": {
      "text/plain": [
       "Created\n",
       "0     743\n",
       "1     631\n",
       "2     579\n",
       "3     475\n",
       "4     419\n",
       "5     387\n",
       "6     430\n",
       "7     423\n",
       "8     372\n",
       "9     358\n",
       "10    363\n",
       "11    373\n",
       "Name: Comments, dtype: int64"
      ]
     },
     "execution_count": 76,
     "metadata": {},
     "output_type": "execute_result"
    }
   ],
   "source": [
    "# find the averages for each category for posts per hour made before noon and afternoon, \n",
    "\n",
    "# MORNING VS AFTERNOON: here i made morning and afternoon, arrays containing \n",
    "# the count of posts above the threshold by hour seperated by noon. see next cell for results\n",
    "# use commentwork and scorework because they were already controlled for below average posts\n",
    "\n",
    "# COMMENTS SECTION\n",
    "commentcounts = commentwork.groupby(work[\"Created\"].dt.hour).count()\n",
    "commentcounts['Created'] = list(range(0,24))\n",
    "morning_com = commentcounts[commentcounts['Created']<12]\n",
    "afternoon_com = commentcounts[commentcounts['Created']>11]\n",
    "\n",
    "# Scores\n",
    "scorecounts = scorework.groupby(work[\"Created\"].dt.hour).count()\n",
    "scorecounts['Created'] = list(range(0,24))\n",
    "morning_score = scorecounts[scorecounts['Created']<12]\n",
    "afternoon_score = scorecounts[scorecounts['Created']>11]\n",
    "\n",
    "\n",
    "# Analysis of work hours versus recreational hours\n",
    "# reset scorecounts\n",
    "scorecounts = scorework.groupby(work[\"Created\"].dt.hour).count()\n",
    "scorecounts['Created'] = list(range(0,24))\n",
    "scorecounts['hour'] = scorecounts['Created']\n",
    "scorecounts.set_index('hour', inplace = True)\n",
    "morning_com.Comments"
   ]
  },
  {
   "cell_type": "code",
   "execution_count": 82,
   "metadata": {},
   "outputs": [
    {
     "data": {
      "text/plain": [
       "Ttest_indResult(statistic=-1.6876909745958304, pvalue=0.10559878652817885)"
      ]
     },
     "execution_count": 82,
     "metadata": {},
     "output_type": "execute_result"
    }
   ],
   "source": [
    "# Question: is there a significant difference in the number of posts above the comment and score \n",
    "# value thresholds in the former and latter halves of the day?\n",
    "\n",
    "# alternate hypothesis: there will be a difference in the values for comments and scores between the two samples\n",
    "# null hypothesis: the averages are distributed in the same way and are effectively the same. \n",
    "stats.ttest_ind(morning_com.Comments.values, afternoon_com.Comments.values)\n",
    "# Ttest_indResult(statistic=0.7830754888224885, pvalue=0.4419315022610524\n",
    "\n",
    "# These results indicate that we do not have sufficient findings to reject our null hypothesis. \n",
    "# this indicates that there is no significant difference in the \n",
    "\n",
    "stats.ttest_ind(morning_score.Score.values, afternoon_score.Score.values)\n",
    "# the scores are even closer to being the same distribution than the comment values\n",
    "# Ttest_indResult(statistic=1.6995380685604065, pvalue=0.10331556790097678)\n"
   ]
  },
  {
   "cell_type": "code",
   "execution_count": 84,
   "metadata": {},
   "outputs": [
    {
     "data": {
      "text/plain": [
       "Ttest_indResult(statistic=4.4907916195410325, pvalue=0.0001819168658468377)"
      ]
     },
     "execution_count": 84,
     "metadata": {},
     "output_type": "execute_result"
    }
   ],
   "source": [
    "# is there a significant difference in the number of posts above the comment and score \n",
    "# value thresholds in typical working hours and the rest of the day\n",
    "\n",
    "# SCORE\n",
    "# work to seperate the data for work hours score\n",
    "work_hours_sco = scorecounts[scorecounts['Created']>=9]\n",
    "work_hours_sco = work_hours_sco[work_hours_sco['Created']<=18]\n",
    "\n",
    "# how to put to remove unwanted times rather than add new ones to a new dataframe\n",
    "private_hours_sco = scorecounts.copy()\n",
    "for i in range(9,19):\n",
    "    private_hours_sco = private_hours_sco[private_hours_sco.Created != i]\n",
    " \n",
    "# TEST SCORE\n",
    "stats.ttest_ind(private_hours_sco.Score.values, work_hours_sco.Score.values)\n",
    "# tTtest_indResult(statistic=2.620484073344668, pvalue=0.015619460530590084)\n",
    "# There is a significant effect of the common work hours of the day on the score value of posts.\n",
    "# The mean score during work hours is significantly different than the mean score during non work hours\n",
    "\n",
    "\n",
    "# COMMENTS\n",
    "\n",
    "# work to seperate the data for work hours score\n",
    "work_hours_com = commentcounts[commentcounts['Created']>=9]\n",
    "work_hours_com = work_hours_com[work_hours_com['Created']<=18]\n",
    "\n",
    "\n",
    "# how to put to remove unwanted times rather than add new ones to a new dataframe\n",
    "private_hours_com = commentcounts.copy()\n",
    "for i in range(9,19):\n",
    "    private_hours_com = private_hours_com[private_hours_com.Created != i]\n",
    "\n",
    "# TEST COMMENTS\n",
    "stats.ttest_ind(private_hours_com.Comments.values, work_hours_com.Comments.values)\n",
    "# Ttest_indResult(statistic=4.4907916195410325, pvalue=0.0001819168658468377)\n",
    "# There is a significant effect of the common work hours of the day on the average score value of posts.\n",
    "# The mean score of posts during work hours is significantly different than the mean score during non work hours.\n",
    "\n",
    "\n"
   ]
  },
  {
   "cell_type": "code",
   "execution_count": 86,
   "metadata": {},
   "outputs": [
    {
     "name": "stdout",
     "output_type": "stream",
     "text": [
      "532.8571428571429\n"
     ]
    }
   ],
   "source": [
    "# brief descriptions to inform analysis\n",
    "private_hours_com.Comments.mean()\n",
    "# print(work_hours_com.describe())\n",
    "# print(private_hours_sco.describe())\n",
    "# print(work_hours_sco.describe())"
   ]
  },
  {
   "cell_type": "code",
   "execution_count": 124,
   "metadata": {},
   "outputs": [
    {
     "data": {
      "text/plain": [
       "[Text(0, 0, 'Private Hours'), Text(0, 0, 'Work Hours')]"
      ]
     },
     "execution_count": 124,
     "metadata": {},
     "output_type": "execute_result"
    },
    {
     "data": {
      "image/png": "[encoded data removed]",
      "text/plain": [
       "<Figure size 432x288 with 1 Axes>"
      ]
     },
     "metadata": {
      "needs_background": "light"
     },
     "output_type": "display_data"
    }
   ],
   "source": [
    "# NEXT STEPS\n",
    "# BARCHARTS FOR TTESTS work private\n",
    "fig, ax = plt.subplots()\n",
    "barheights = [private_hours_com.Comments.mean(),work_hours_com.Comments.mean()]\n",
    "barlabels = ['Private Hours', 'Work Hours']\n",
    "graphy= ax.bar(range(len(barheights)), barheights, color=('g', 'r'))\n",
    "ax.set_title('Comparison of average number of comments on posts made during \\n Private hours (0-8, 19-23) and Work hours (9-18)') \n",
    "ax.set_xticks(range(len(barheights)))\n",
    "ax.set_xticklabels(barlabels)\n",
    "\n",
    "\n"
   ]
  },
  {
   "cell_type": "code",
   "execution_count": 121,
   "metadata": {},
   "outputs": [
    {
     "data": {
      "text/plain": [
       "[Text(0, 0, 'Private Hours'), Text(0, 0, 'Work Hours')]"
      ]
     },
     "execution_count": 121,
     "metadata": {},
     "output_type": "execute_result"
    },
    {
     "data": {
      "image/png": "[encoded data removed]",
      "text/plain": [
       "<Figure size 432x288 with 1 Axes>"
      ]
     },
     "metadata": {
      "needs_background": "light"
     },
     "output_type": "display_data"
    }
   ],
   "source": [
    "# NEXT STEPS\n",
    "# BARCHARTS FOR TTESTS score work private\n",
    "fig, ax = plt.subplots()\n",
    "barheights = [private_hours_sco.Score.mean(),work_hours_sco.Score.mean()]\n",
    "barlabels = ['Private Hours', 'Work Hours']\n",
    "grapho = ax.bar(range(len(barheights)), barheights, color=('g', 'r'))\n",
    "ax.set_title('Comparison of average Score on posts made during \\n during Private hours (0-8, 19-23) and Work hours (9-18)') \n",
    "ax.set_xticks(range(len(barheights)))\n",
    "ax.set_ylabel('Score (upvotes - downvotes)')\n",
    "ax.set_xticklabels(barlabels)\n"
   ]
  },
  {
   "cell_type": "code",
   "execution_count": 119,
   "metadata": {},
   "outputs": [
    {
     "data": {
      "text/plain": [
       "[Text(0, 0, 'Morning (hours 0-11)'), Text(0, 0, 'Afternoon (hours 12-23)')]"
      ]
     },
     "execution_count": 119,
     "metadata": {},
     "output_type": "execute_result"
    },
    {
     "data": {
      "image/png": "[encoded data removed]",
      "text/plain": [
       "<Figure size 432x288 with 1 Axes>"
      ]
     },
     "metadata": {
      "needs_background": "light"
     },
     "output_type": "display_data"
    }
   ],
   "source": [
    "# afternoon morning comments\n",
    "fig, ax = plt.subplots()\n",
    "barheights = [morning_com.Comments.mean(),afternoon_com.Comments.mean()]\n",
    "barlabels = ['Morning (hours 0-11)', 'Afternoon (hours 12-23)']\n",
    "graph=ax.bar(range(len(barheights)), barheights, color=('b', 'orange'))\n",
    "ax.set_title('Comparison of average number of comments on posts made during \\n the Morning (0-11) and the Afternoon (12-23)') \n",
    "ax.set_xticks(range(len(barheights)))\n",
    "ax.set_xticklabels(barlabels)\n",
    "\n",
    "\n"
   ]
  },
  {
   "cell_type": "code",
   "execution_count": 120,
   "metadata": {},
   "outputs": [
    {
     "data": {
      "text/plain": [
       "Text(0, 0.5, 'Score (upvotes - downvotes)')"
      ]
     },
     "execution_count": 120,
     "metadata": {},
     "output_type": "execute_result"
    },
    {
     "data": {
      "image/png": "[encoded data removed]",
      "text/plain": [
       "<Figure size 432x288 with 1 Axes>"
      ]
     },
     "metadata": {
      "needs_background": "light"
     },
     "output_type": "display_data"
    }
   ],
   "source": [
    "# afternoon morning score\n",
    "fig, ax = plt.subplots()\n",
    "barheights = [morning_score.Score.mean(),afternoon_score.Score.mean()]\n",
    "barlabels = ['Morning (hours 0-11)', 'Afternoon (hours 12-23)']\n",
    "graph=ax.bar(range(len(barheights)), barheights, color=('b', 'orange'))\n",
    "ax.set_title('Comparison of Average Score of posts made during \\n the Morning (0-11) and the Afternoon (12-23)') \n",
    "ax.set_xticks(range(len(barheights)))\n",
    "ax.set_xticklabels(barlabels)\n",
    "ax.set_ylabel('Score (upvotes - downvotes)')\n",
    "\n"
   ]
  },
  {
   "cell_type": "code",
   "execution_count": null,
   "metadata": {},
   "outputs": [],
   "source": []
  },
  {
   "cell_type": "code",
   "execution_count": null,
   "metadata": {},
   "outputs": [],
   "source": []
  },
  {
   "cell_type": "code",
   "execution_count": null,
   "metadata": {},
   "outputs": [],
   "source": []
  },
  {
   "cell_type": "code",
   "execution_count": null,
   "metadata": {},
   "outputs": [],
   "source": []
  },
  {
   "cell_type": "code",
   "execution_count": null,
   "metadata": {},
   "outputs": [],
   "source": []
  },
  {
   "cell_type": "code",
   "execution_count": null,
   "metadata": {},
   "outputs": [],
   "source": []
  },
  {
   "cell_type": "code",
   "execution_count": null,
   "metadata": {},
   "outputs": [],
   "source": []
  }
 ],
 "metadata": {
  "kernelspec": {
   "display_name": "Python 3",
   "language": "python",
   "name": "python3"
  },
  "language_info": {
   "codemirror_mode": {
    "name": "ipython",
    "version": 3
   },
   "file_extension": ".py",
   "mimetype": "text/x-python",
   "name": "python",
   "nbconvert_exporter": "python",
   "pygments_lexer": "ipython3",
   "version": "3.7.4"
  }
 },
 "nbformat": 4,
 "nbformat_minor": 2
}
