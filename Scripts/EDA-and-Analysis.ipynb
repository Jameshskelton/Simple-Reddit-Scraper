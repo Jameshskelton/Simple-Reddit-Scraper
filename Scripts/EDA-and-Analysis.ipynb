{
 "cells": [
  {
   "cell_type": "code",
   "execution_count": 63,
   "metadata": {},
   "outputs": [],
   "source": [
    "#! usr/bin/env python3\n",
    "import praw\n",
    "import pandas as pd\n",
    "from datetime import datetime as dt\n",
    "import time, calendar\n",
    "import psycopg2\n",
    "import time\n",
    "import pymongo\n",
    "starttime=time.time()\n",
    "import matplotlib.pyplot as plt\n",
    "# import matplotlib.pyplot as plt\n",
    "import numpy as np\n",
    "from matplotlib import colors\n",
    "from matplotlib.ticker import PercentFormatter\n",
    "import scipy.stats as stats\n",
    "from scipy.stats import linregress\n",
    "\n",
    "\n"
   ]
  },
  {
   "cell_type": "code",
   "execution_count": 10,
   "metadata": {},
   "outputs": [
    {
     "data": {
      "text/html": [
       "<div>\n",
       "<style scoped>\n",
       "    .dataframe tbody tr th:only-of-type {\n",
       "        vertical-align: middle;\n",
       "    }\n",
       "\n",
       "    .dataframe tbody tr th {\n",
       "        vertical-align: top;\n",
       "    }\n",
       "\n",
       "    .dataframe thead th {\n",
       "        text-align: right;\n",
       "    }\n",
       "</style>\n",
       "<table border=\"1\" class=\"dataframe\">\n",
       "  <thead>\n",
       "    <tr style=\"text-align: right;\">\n",
       "      <th></th>\n",
       "      <th>Unnamed: 0</th>\n",
       "      <th>ID</th>\n",
       "      <th>Title</th>\n",
       "      <th>Body</th>\n",
       "      <th>Score</th>\n",
       "      <th>URL</th>\n",
       "      <th>Comments</th>\n",
       "      <th>Created</th>\n",
       "    </tr>\n",
       "  </thead>\n",
       "  <tbody>\n",
       "    <tr>\n",
       "      <td>0</td>\n",
       "      <td>0</td>\n",
       "      <td>ejl023</td>\n",
       "      <td>Perfect timing</td>\n",
       "      <td>NaN</td>\n",
       "      <td>17413</td>\n",
       "      <td>https://v.redd.it/ayzsxc2tfm841</td>\n",
       "      <td>315</td>\n",
       "      <td>2020-01-04 04:14:06</td>\n",
       "    </tr>\n",
       "    <tr>\n",
       "      <td>1</td>\n",
       "      <td>1</td>\n",
       "      <td>ejk48x</td>\n",
       "      <td>TIL Research shows that children as young as 4...</td>\n",
       "      <td>NaN</td>\n",
       "      <td>23802</td>\n",
       "      <td>https://news.yale.edu/2018/07/23/even-4-year-o...</td>\n",
       "      <td>1116</td>\n",
       "      <td>2020-01-04 03:14:08</td>\n",
       "    </tr>\n",
       "    <tr>\n",
       "      <td>2</td>\n",
       "      <td>2</td>\n",
       "      <td>ejk3qx</td>\n",
       "      <td>In The Lego Movie (2014) Benny the spaceman ha...</td>\n",
       "      <td>NaN</td>\n",
       "      <td>18413</td>\n",
       "      <td>https://i.redd.it/1yf0ofvx4m841.jpg</td>\n",
       "      <td>264</td>\n",
       "      <td>2020-01-04 03:13:11</td>\n",
       "    </tr>\n",
       "    <tr>\n",
       "      <td>3</td>\n",
       "      <td>3</td>\n",
       "      <td>ejjmjr</td>\n",
       "      <td>Recommendations!</td>\n",
       "      <td>NaN</td>\n",
       "      <td>24502</td>\n",
       "      <td>https://i.redd.it/j6e4ge34zl841.jpg</td>\n",
       "      <td>101</td>\n",
       "      <td>2020-01-04 02:40:32</td>\n",
       "    </tr>\n",
       "    <tr>\n",
       "      <td>4</td>\n",
       "      <td>4</td>\n",
       "      <td>ejkcib</td>\n",
       "      <td>New Years photobomb!</td>\n",
       "      <td>NaN</td>\n",
       "      <td>11507</td>\n",
       "      <td>https://i.redd.it/1dashplv7m841.jpg</td>\n",
       "      <td>173</td>\n",
       "      <td>2020-01-04 03:29:40</td>\n",
       "    </tr>\n",
       "    <tr>\n",
       "      <td>...</td>\n",
       "      <td>...</td>\n",
       "      <td>...</td>\n",
       "      <td>...</td>\n",
       "      <td>...</td>\n",
       "      <td>...</td>\n",
       "      <td>...</td>\n",
       "      <td>...</td>\n",
       "      <td>...</td>\n",
       "    </tr>\n",
       "    <tr>\n",
       "      <td>6268834</td>\n",
       "      <td>7172467</td>\n",
       "      <td>el49up</td>\n",
       "      <td>umm, oopsie!</td>\n",
       "      <td>NaN</td>\n",
       "      <td>344</td>\n",
       "      <td>https://i.redd.it/rldx31cqi9941.jpg</td>\n",
       "      <td>11</td>\n",
       "      <td>2020-01-07 09:51:27</td>\n",
       "    </tr>\n",
       "    <tr>\n",
       "      <td>6268835</td>\n",
       "      <td>7172468</td>\n",
       "      <td>elbkks</td>\n",
       "      <td>So do you want the green meth or the blue meth?</td>\n",
       "      <td>NaN</td>\n",
       "      <td>43</td>\n",
       "      <td>https://i.redd.it/2wuua1bfzc941.jpg</td>\n",
       "      <td>4</td>\n",
       "      <td>2020-01-07 21:30:22</td>\n",
       "    </tr>\n",
       "    <tr>\n",
       "      <td>6268836</td>\n",
       "      <td>7172469</td>\n",
       "      <td>elb5dc</td>\n",
       "      <td>Ah yes happened yesterday</td>\n",
       "      <td>NaN</td>\n",
       "      <td>45</td>\n",
       "      <td>https://i.redd.it/i82z1sx7sc941.jpg</td>\n",
       "      <td>1</td>\n",
       "      <td>2020-01-07 20:49:58</td>\n",
       "    </tr>\n",
       "    <tr>\n",
       "      <td>6268837</td>\n",
       "      <td>7172471</td>\n",
       "      <td>elbngo</td>\n",
       "      <td>Me Trying to sleep</td>\n",
       "      <td>NaN</td>\n",
       "      <td>40</td>\n",
       "      <td>https://i.redd.it/lflndbnq0d941.png</td>\n",
       "      <td>1</td>\n",
       "      <td>2020-01-07 21:37:44</td>\n",
       "    </tr>\n",
       "    <tr>\n",
       "      <td>6268838</td>\n",
       "      <td>7172472</td>\n",
       "      <td>elarp9</td>\n",
       "      <td>No I’m not proud of the quality. Yes I made it...</td>\n",
       "      <td>NaN</td>\n",
       "      <td>50</td>\n",
       "      <td>https://i.redd.it/yu4not6klc941.jpg</td>\n",
       "      <td>1</td>\n",
       "      <td>2020-01-07 20:12:39</td>\n",
       "    </tr>\n",
       "  </tbody>\n",
       "</table>\n",
       "<p>6268839 rows × 8 columns</p>\n",
       "</div>"
      ],
      "text/plain": [
       "         Unnamed: 0      ID  \\\n",
       "0                 0  ejl023   \n",
       "1                 1  ejk48x   \n",
       "2                 2  ejk3qx   \n",
       "3                 3  ejjmjr   \n",
       "4                 4  ejkcib   \n",
       "...             ...     ...   \n",
       "6268834     7172467  el49up   \n",
       "6268835     7172468  elbkks   \n",
       "6268836     7172469  elb5dc   \n",
       "6268837     7172471  elbngo   \n",
       "6268838     7172472  elarp9   \n",
       "\n",
       "                                                     Title Body  Score  \\\n",
       "0                                           Perfect timing  NaN  17413   \n",
       "1        TIL Research shows that children as young as 4...  NaN  23802   \n",
       "2        In The Lego Movie (2014) Benny the spaceman ha...  NaN  18413   \n",
       "3                                         Recommendations!  NaN  24502   \n",
       "4                                     New Years photobomb!  NaN  11507   \n",
       "...                                                    ...  ...    ...   \n",
       "6268834                                       umm, oopsie!  NaN    344   \n",
       "6268835    So do you want the green meth or the blue meth?  NaN     43   \n",
       "6268836                          Ah yes happened yesterday  NaN     45   \n",
       "6268837                                 Me Trying to sleep  NaN     40   \n",
       "6268838  No I’m not proud of the quality. Yes I made it...  NaN     50   \n",
       "\n",
       "                                                       URL  Comments  \\\n",
       "0                          https://v.redd.it/ayzsxc2tfm841       315   \n",
       "1        https://news.yale.edu/2018/07/23/even-4-year-o...      1116   \n",
       "2                      https://i.redd.it/1yf0ofvx4m841.jpg       264   \n",
       "3                      https://i.redd.it/j6e4ge34zl841.jpg       101   \n",
       "4                      https://i.redd.it/1dashplv7m841.jpg       173   \n",
       "...                                                    ...       ...   \n",
       "6268834                https://i.redd.it/rldx31cqi9941.jpg        11   \n",
       "6268835                https://i.redd.it/2wuua1bfzc941.jpg         4   \n",
       "6268836                https://i.redd.it/i82z1sx7sc941.jpg         1   \n",
       "6268837                https://i.redd.it/lflndbnq0d941.png         1   \n",
       "6268838                https://i.redd.it/yu4not6klc941.jpg         1   \n",
       "\n",
       "                    Created  \n",
       "0       2020-01-04 04:14:06  \n",
       "1       2020-01-04 03:14:08  \n",
       "2       2020-01-04 03:13:11  \n",
       "3       2020-01-04 02:40:32  \n",
       "4       2020-01-04 03:29:40  \n",
       "...                     ...  \n",
       "6268834 2020-01-07 09:51:27  \n",
       "6268835 2020-01-07 21:30:22  \n",
       "6268836 2020-01-07 20:49:58  \n",
       "6268837 2020-01-07 21:37:44  \n",
       "6268838 2020-01-07 20:12:39  \n",
       "\n",
       "[6268839 rows x 8 columns]"
      ]
     },
     "execution_count": 10,
     "metadata": {},
     "output_type": "execute_result"
    }
   ],
   "source": [
    "# Write file to dataFrame\n",
    "filepath = \"df_reddit.csv\"\n",
    "\n",
    "dataframereddit = pd.read_csv(filepath, sep = '\\t', encoding ='utf-8', parse_dates=['Created'])\n",
    "dataframereddit\n"
   ]
  },
  {
   "cell_type": "code",
   "execution_count": 64,
   "metadata": {},
   "outputs": [
    {
     "data": {
      "text/html": [
       "<div>\n",
       "<style scoped>\n",
       "    .dataframe tbody tr th:only-of-type {\n",
       "        vertical-align: middle;\n",
       "    }\n",
       "\n",
       "    .dataframe tbody tr th {\n",
       "        vertical-align: top;\n",
       "    }\n",
       "\n",
       "    .dataframe thead th {\n",
       "        text-align: right;\n",
       "    }\n",
       "</style>\n",
       "<table border=\"1\" class=\"dataframe\">\n",
       "  <thead>\n",
       "    <tr style=\"text-align: right;\">\n",
       "      <th></th>\n",
       "      <th>ID</th>\n",
       "      <th>Score</th>\n",
       "      <th>Comments</th>\n",
       "      <th>Created</th>\n",
       "    </tr>\n",
       "  </thead>\n",
       "  <tbody>\n",
       "    <tr>\n",
       "      <td>0</td>\n",
       "      <td>ejl023</td>\n",
       "      <td>17413</td>\n",
       "      <td>315</td>\n",
       "      <td>2020-01-04 04:14:06</td>\n",
       "    </tr>\n",
       "    <tr>\n",
       "      <td>1</td>\n",
       "      <td>ejk48x</td>\n",
       "      <td>23802</td>\n",
       "      <td>1116</td>\n",
       "      <td>2020-01-04 03:14:08</td>\n",
       "    </tr>\n",
       "    <tr>\n",
       "      <td>2</td>\n",
       "      <td>ejk3qx</td>\n",
       "      <td>18413</td>\n",
       "      <td>264</td>\n",
       "      <td>2020-01-04 03:13:11</td>\n",
       "    </tr>\n",
       "    <tr>\n",
       "      <td>3</td>\n",
       "      <td>ejjmjr</td>\n",
       "      <td>24502</td>\n",
       "      <td>101</td>\n",
       "      <td>2020-01-04 02:40:32</td>\n",
       "    </tr>\n",
       "    <tr>\n",
       "      <td>4</td>\n",
       "      <td>ejkcib</td>\n",
       "      <td>11507</td>\n",
       "      <td>173</td>\n",
       "      <td>2020-01-04 03:29:40</td>\n",
       "    </tr>\n",
       "    <tr>\n",
       "      <td>...</td>\n",
       "      <td>...</td>\n",
       "      <td>...</td>\n",
       "      <td>...</td>\n",
       "      <td>...</td>\n",
       "    </tr>\n",
       "    <tr>\n",
       "      <td>6268834</td>\n",
       "      <td>el49up</td>\n",
       "      <td>344</td>\n",
       "      <td>11</td>\n",
       "      <td>2020-01-07 09:51:27</td>\n",
       "    </tr>\n",
       "    <tr>\n",
       "      <td>6268835</td>\n",
       "      <td>elbkks</td>\n",
       "      <td>43</td>\n",
       "      <td>4</td>\n",
       "      <td>2020-01-07 21:30:22</td>\n",
       "    </tr>\n",
       "    <tr>\n",
       "      <td>6268836</td>\n",
       "      <td>elb5dc</td>\n",
       "      <td>45</td>\n",
       "      <td>1</td>\n",
       "      <td>2020-01-07 20:49:58</td>\n",
       "    </tr>\n",
       "    <tr>\n",
       "      <td>6268837</td>\n",
       "      <td>elbngo</td>\n",
       "      <td>40</td>\n",
       "      <td>1</td>\n",
       "      <td>2020-01-07 21:37:44</td>\n",
       "    </tr>\n",
       "    <tr>\n",
       "      <td>6268838</td>\n",
       "      <td>elarp9</td>\n",
       "      <td>50</td>\n",
       "      <td>1</td>\n",
       "      <td>2020-01-07 20:12:39</td>\n",
       "    </tr>\n",
       "  </tbody>\n",
       "</table>\n",
       "<p>6268839 rows × 4 columns</p>\n",
       "</div>"
      ],
      "text/plain": [
       "             ID  Score  Comments             Created\n",
       "0        ejl023  17413       315 2020-01-04 04:14:06\n",
       "1        ejk48x  23802      1116 2020-01-04 03:14:08\n",
       "2        ejk3qx  18413       264 2020-01-04 03:13:11\n",
       "3        ejjmjr  24502       101 2020-01-04 02:40:32\n",
       "4        ejkcib  11507       173 2020-01-04 03:29:40\n",
       "...         ...    ...       ...                 ...\n",
       "6268834  el49up    344        11 2020-01-07 09:51:27\n",
       "6268835  elbkks     43         4 2020-01-07 21:30:22\n",
       "6268836  elb5dc     45         1 2020-01-07 20:49:58\n",
       "6268837  elbngo     40         1 2020-01-07 21:37:44\n",
       "6268838  elarp9     50         1 2020-01-07 20:12:39\n",
       "\n",
       "[6268839 rows x 4 columns]"
      ]
     },
     "execution_count": 64,
     "metadata": {},
     "output_type": "execute_result"
    }
   ],
   "source": [
    "# Cleaning work\n",
    "work = dataframereddit.copy()\n",
    "work.drop(['Body', 'URL', 'Unnamed: 0', 'Title'], axis=1, inplace = True)\n",
    "work.dropna(axis=0, how='any', thresh=None, subset=['Score', 'Comments', 'Created'] , inplace=True)\n",
    "work\n"
   ]
  },
  {
   "cell_type": "code",
   "execution_count": 275,
   "metadata": {},
   "outputs": [
    {
     "data": {
      "text/plain": [
       "Timestamp('2020-01-07 21:41:52')"
      ]
     },
     "execution_count": 275,
     "metadata": {},
     "output_type": "execute_result"
    }
   ],
   "source": [
    "# Important info\n",
    "\n",
    "# Next step: do an analysis of the data to determine if there is a significant difference in \n",
    "# average score values in the beginning of the day, and the end of the day. then do the same for comments\n",
    "\n",
    "\n",
    "# work.mean()\n",
    "# Score avg = 2385.594459\n",
    "# Comments avg = 68.359865\n",
    "# Total hours = 109\n",
    "# work.Score.max() = 151464\n",
    "# work.Score.min() = 36\n",
    "# comments min = 0\n",
    "# comments max = 56981\n",
    "# created max= 2020-01-07 21:41:52\n",
    "# Created min = 2020-01-03 07:04:51\n",
    "# work.Created.max()-work.Created.min() =  Timedelta('4 days 14:37:01')\n",
    "# After checking for data errors, i have removed things after \n",
    "# data1.sort_values(by=['Created']).Created.min() - data1.sort_values(by=['Created']).Created.max() = Timedelta('-2 days +10:18:11')\n",
    "\n",
    "\n",
    "data1.sort_values(by=['Created']).Created.max()"
   ]
  },
  {
   "cell_type": "code",
   "execution_count": 277,
   "metadata": {},
   "outputs": [
    {
     "data": {
      "image/png": "[encoded data removed]",
      "text/plain": [
       "<Figure size 1512x504 with 1 Axes>"
      ]
     },
     "metadata": {
      "needs_background": "light"
     },
     "output_type": "display_data"
    }
   ],
   "source": [
    "# Here we show a histogram by day of the score values\n",
    "work.sort_values(by=['Score'], ascending = False, inplace = True)\n",
    "data = work.Created\n",
    "data1 = work.copy()\n",
    "data1.set_index('Score', inplace = True)\n",
    "data1.drop(['ID', 'Comments'], axis = 1, inplace = True)\n",
    "\n",
    "fig, ax = plt.subplots(figsize=([21,7]))\n",
    "\n",
    "entries1, edges1, _ = plt.hist(data1.Created, bins=109)\n",
    "\n",
    "# # calculate bin centers\n",
    "bin_centers = 0.5 * (edges1[:-1] + edges1[1:])\n",
    "\n",
    "# # draw errorbars, use the sqrt error. You can use what you want there\n",
    "# # poissonian 1 sigma intervals would make more sense\n",
    "plt.errorbar(bin_centers, entries1, yerr=np.sqrt(entries1), fmt='r.')\n",
    "\n",
    "\n",
    "ax.set_xlabel('Day of the week (bins = total hours in period)')\n",
    "ax.set_ylabel('Count')\n",
    "\n",
    "ax.set_title('Average count of \"Hot\" Reddit posts by hour for the period \\n January 3rd, 2019 to January 8th, 2019')\n",
    "# ax.set_xticks(ticks=list(range(0,121))) \n",
    "plt.xlim('2020-01-03 07:04:51', '2020-01-06 6:00:00')\n",
    "plt.show()\n",
    "\n"
   ]
  },
  {
   "cell_type": "code",
   "execution_count": 244,
   "metadata": {},
   "outputs": [
    {
     "data": {
      "text/html": [
       "<div>\n",
       "<style scoped>\n",
       "    .dataframe tbody tr th:only-of-type {\n",
       "        vertical-align: middle;\n",
       "    }\n",
       "\n",
       "    .dataframe tbody tr th {\n",
       "        vertical-align: top;\n",
       "    }\n",
       "\n",
       "    .dataframe thead th {\n",
       "        text-align: right;\n",
       "    }\n",
       "</style>\n",
       "<table border=\"1\" class=\"dataframe\">\n",
       "  <thead>\n",
       "    <tr style=\"text-align: right;\">\n",
       "      <th></th>\n",
       "      <th>Created</th>\n",
       "    </tr>\n",
       "    <tr>\n",
       "      <th>Score</th>\n",
       "      <th></th>\n",
       "    </tr>\n",
       "  </thead>\n",
       "  <tbody>\n",
       "    <tr>\n",
       "      <td>12760</td>\n",
       "      <td>2020-01-03 07:04:51</td>\n",
       "    </tr>\n",
       "    <tr>\n",
       "      <td>15007</td>\n",
       "      <td>2020-01-03 07:07:39</td>\n",
       "    </tr>\n",
       "    <tr>\n",
       "      <td>16087</td>\n",
       "      <td>2020-01-03 07:07:58</td>\n",
       "    </tr>\n",
       "    <tr>\n",
       "      <td>42705</td>\n",
       "      <td>2020-01-03 07:08:45</td>\n",
       "    </tr>\n",
       "    <tr>\n",
       "      <td>8563</td>\n",
       "      <td>2020-01-03 07:09:06</td>\n",
       "    </tr>\n",
       "    <tr>\n",
       "      <td>...</td>\n",
       "      <td>...</td>\n",
       "    </tr>\n",
       "    <tr>\n",
       "      <td>39</td>\n",
       "      <td>2020-01-07 21:39:29</td>\n",
       "    </tr>\n",
       "    <tr>\n",
       "      <td>40</td>\n",
       "      <td>2020-01-07 21:39:39</td>\n",
       "    </tr>\n",
       "    <tr>\n",
       "      <td>46</td>\n",
       "      <td>2020-01-07 21:40:15</td>\n",
       "    </tr>\n",
       "    <tr>\n",
       "      <td>43</td>\n",
       "      <td>2020-01-07 21:41:11</td>\n",
       "    </tr>\n",
       "    <tr>\n",
       "      <td>60</td>\n",
       "      <td>2020-01-07 21:41:52</td>\n",
       "    </tr>\n",
       "  </tbody>\n",
       "</table>\n",
       "<p>77743 rows × 1 columns</p>\n",
       "</div>"
      ],
      "text/plain": [
       "                  Created\n",
       "Score                    \n",
       "12760 2020-01-03 07:04:51\n",
       "15007 2020-01-03 07:07:39\n",
       "16087 2020-01-03 07:07:58\n",
       "42705 2020-01-03 07:08:45\n",
       "8563  2020-01-03 07:09:06\n",
       "...                   ...\n",
       "39    2020-01-07 21:39:29\n",
       "40    2020-01-07 21:39:39\n",
       "46    2020-01-07 21:40:15\n",
       "43    2020-01-07 21:41:11\n",
       "60    2020-01-07 21:41:52\n",
       "\n",
       "[77743 rows x 1 columns]"
      ]
     },
     "execution_count": 244,
     "metadata": {},
     "output_type": "execute_result"
    }
   ],
   "source": [
    "data1.sort_values(by=['Created'])"
   ]
  },
  {
   "cell_type": "code",
   "execution_count": 207,
   "metadata": {},
   "outputs": [
    {
     "ename": "AttributeError",
     "evalue": "'Line2D' object has no property 'type'",
     "output_type": "error",
     "traceback": [
      "\u001b[0;31m---------------------------------------------------------------------------\u001b[0m",
      "\u001b[0;31mAttributeError\u001b[0m                            Traceback (most recent call last)",
      "\u001b[0;32m<ipython-input-207-1b48e5cb2670>\u001b[0m in \u001b[0;36m<module>\u001b[0;34m\u001b[0m\n\u001b[1;32m     15\u001b[0m \u001b[0mfig\u001b[0m\u001b[0;34m,\u001b[0m \u001b[0max\u001b[0m \u001b[0;34m=\u001b[0m \u001b[0mplt\u001b[0m\u001b[0;34m.\u001b[0m\u001b[0msubplots\u001b[0m\u001b[0;34m(\u001b[0m\u001b[0mfigsize\u001b[0m\u001b[0;34m=\u001b[0m\u001b[0;34m(\u001b[0m\u001b[0;34m[\u001b[0m\u001b[0;36m21\u001b[0m\u001b[0;34m,\u001b[0m\u001b[0;36m7\u001b[0m\u001b[0;34m]\u001b[0m\u001b[0;34m)\u001b[0m\u001b[0;34m)\u001b[0m\u001b[0;34m\u001b[0m\u001b[0;34m\u001b[0m\u001b[0m\n\u001b[1;32m     16\u001b[0m \u001b[0;34m\u001b[0m\u001b[0m\n\u001b[0;32m---> 17\u001b[0;31m \u001b[0mplt\u001b[0m\u001b[0;34m.\u001b[0m\u001b[0mplot\u001b[0m\u001b[0;34m(\u001b[0m\u001b[0mrange\u001b[0m\u001b[0;34m(\u001b[0m\u001b[0;36m0\u001b[0m\u001b[0;34m,\u001b[0m\u001b[0;36m60\u001b[0m\u001b[0;34m)\u001b[0m\u001b[0;34m,\u001b[0m\u001b[0mdata1\u001b[0m\u001b[0;34m,\u001b[0m \u001b[0mtype\u001b[0m \u001b[0;34m=\u001b[0m \u001b[0;34m'hist'\u001b[0m\u001b[0;34m)\u001b[0m\u001b[0;34m\u001b[0m\u001b[0;34m\u001b[0m\u001b[0m\n\u001b[0m\u001b[1;32m     18\u001b[0m \u001b[0mdata1\u001b[0m\u001b[0;34m\u001b[0m\u001b[0;34m\u001b[0m\u001b[0m\n",
      "\u001b[0;32m~/opt/anaconda3/lib/python3.7/site-packages/matplotlib/pyplot.py\u001b[0m in \u001b[0;36mplot\u001b[0;34m(scalex, scaley, data, *args, **kwargs)\u001b[0m\n\u001b[1;32m   2793\u001b[0m     return gca().plot(\n\u001b[1;32m   2794\u001b[0m         *args, scalex=scalex, scaley=scaley, **({\"data\": data} if data\n\u001b[0;32m-> 2795\u001b[0;31m         is not None else {}), **kwargs)\n\u001b[0m\u001b[1;32m   2796\u001b[0m \u001b[0;34m\u001b[0m\u001b[0m\n\u001b[1;32m   2797\u001b[0m \u001b[0;34m\u001b[0m\u001b[0m\n",
      "\u001b[0;32m~/opt/anaconda3/lib/python3.7/site-packages/matplotlib/axes/_axes.py\u001b[0m in \u001b[0;36mplot\u001b[0;34m(self, scalex, scaley, data, *args, **kwargs)\u001b[0m\n\u001b[1;32m   1664\u001b[0m         \"\"\"\n\u001b[1;32m   1665\u001b[0m         \u001b[0mkwargs\u001b[0m \u001b[0;34m=\u001b[0m \u001b[0mcbook\u001b[0m\u001b[0;34m.\u001b[0m\u001b[0mnormalize_kwargs\u001b[0m\u001b[0;34m(\u001b[0m\u001b[0mkwargs\u001b[0m\u001b[0;34m,\u001b[0m \u001b[0mmlines\u001b[0m\u001b[0;34m.\u001b[0m\u001b[0mLine2D\u001b[0m\u001b[0;34m.\u001b[0m\u001b[0m_alias_map\u001b[0m\u001b[0;34m)\u001b[0m\u001b[0;34m\u001b[0m\u001b[0;34m\u001b[0m\u001b[0m\n\u001b[0;32m-> 1666\u001b[0;31m         \u001b[0mlines\u001b[0m \u001b[0;34m=\u001b[0m \u001b[0;34m[\u001b[0m\u001b[0;34m*\u001b[0m\u001b[0mself\u001b[0m\u001b[0;34m.\u001b[0m\u001b[0m_get_lines\u001b[0m\u001b[0;34m(\u001b[0m\u001b[0;34m*\u001b[0m\u001b[0margs\u001b[0m\u001b[0;34m,\u001b[0m \u001b[0mdata\u001b[0m\u001b[0;34m=\u001b[0m\u001b[0mdata\u001b[0m\u001b[0;34m,\u001b[0m \u001b[0;34m**\u001b[0m\u001b[0mkwargs\u001b[0m\u001b[0;34m)\u001b[0m\u001b[0;34m]\u001b[0m\u001b[0;34m\u001b[0m\u001b[0;34m\u001b[0m\u001b[0m\n\u001b[0m\u001b[1;32m   1667\u001b[0m         \u001b[0;32mfor\u001b[0m \u001b[0mline\u001b[0m \u001b[0;32min\u001b[0m \u001b[0mlines\u001b[0m\u001b[0;34m:\u001b[0m\u001b[0;34m\u001b[0m\u001b[0;34m\u001b[0m\u001b[0m\n\u001b[1;32m   1668\u001b[0m             \u001b[0mself\u001b[0m\u001b[0;34m.\u001b[0m\u001b[0madd_line\u001b[0m\u001b[0;34m(\u001b[0m\u001b[0mline\u001b[0m\u001b[0;34m)\u001b[0m\u001b[0;34m\u001b[0m\u001b[0;34m\u001b[0m\u001b[0m\n",
      "\u001b[0;32m~/opt/anaconda3/lib/python3.7/site-packages/matplotlib/axes/_base.py\u001b[0m in \u001b[0;36m__call__\u001b[0;34m(self, *args, **kwargs)\u001b[0m\n\u001b[1;32m    223\u001b[0m                 \u001b[0mthis\u001b[0m \u001b[0;34m+=\u001b[0m \u001b[0margs\u001b[0m\u001b[0;34m[\u001b[0m\u001b[0;36m0\u001b[0m\u001b[0;34m]\u001b[0m\u001b[0;34m,\u001b[0m\u001b[0;34m\u001b[0m\u001b[0;34m\u001b[0m\u001b[0m\n\u001b[1;32m    224\u001b[0m                 \u001b[0margs\u001b[0m \u001b[0;34m=\u001b[0m \u001b[0margs\u001b[0m\u001b[0;34m[\u001b[0m\u001b[0;36m1\u001b[0m\u001b[0;34m:\u001b[0m\u001b[0;34m]\u001b[0m\u001b[0;34m\u001b[0m\u001b[0;34m\u001b[0m\u001b[0m\n\u001b[0;32m--> 225\u001b[0;31m             \u001b[0;32myield\u001b[0m \u001b[0;32mfrom\u001b[0m \u001b[0mself\u001b[0m\u001b[0;34m.\u001b[0m\u001b[0m_plot_args\u001b[0m\u001b[0;34m(\u001b[0m\u001b[0mthis\u001b[0m\u001b[0;34m,\u001b[0m \u001b[0mkwargs\u001b[0m\u001b[0;34m)\u001b[0m\u001b[0;34m\u001b[0m\u001b[0;34m\u001b[0m\u001b[0m\n\u001b[0m\u001b[1;32m    226\u001b[0m \u001b[0;34m\u001b[0m\u001b[0m\n\u001b[1;32m    227\u001b[0m     \u001b[0;32mdef\u001b[0m \u001b[0mget_next_color\u001b[0m\u001b[0;34m(\u001b[0m\u001b[0mself\u001b[0m\u001b[0;34m)\u001b[0m\u001b[0;34m:\u001b[0m\u001b[0;34m\u001b[0m\u001b[0;34m\u001b[0m\u001b[0m\n",
      "\u001b[0;32m~/opt/anaconda3/lib/python3.7/site-packages/matplotlib/axes/_base.py\u001b[0m in \u001b[0;36m_plot_args\u001b[0;34m(self, tup, kwargs)\u001b[0m\n\u001b[1;32m    403\u001b[0m                 \"non-matching shapes is deprecated.\")\n\u001b[1;32m    404\u001b[0m         \u001b[0;32mfor\u001b[0m \u001b[0mj\u001b[0m \u001b[0;32min\u001b[0m \u001b[0mrange\u001b[0m\u001b[0;34m(\u001b[0m\u001b[0mmax\u001b[0m\u001b[0;34m(\u001b[0m\u001b[0mncx\u001b[0m\u001b[0;34m,\u001b[0m \u001b[0mncy\u001b[0m\u001b[0;34m)\u001b[0m\u001b[0;34m)\u001b[0m\u001b[0;34m:\u001b[0m\u001b[0;34m\u001b[0m\u001b[0;34m\u001b[0m\u001b[0m\n\u001b[0;32m--> 405\u001b[0;31m             \u001b[0mseg\u001b[0m \u001b[0;34m=\u001b[0m \u001b[0mfunc\u001b[0m\u001b[0;34m(\u001b[0m\u001b[0mx\u001b[0m\u001b[0;34m[\u001b[0m\u001b[0;34m:\u001b[0m\u001b[0;34m,\u001b[0m \u001b[0mj\u001b[0m \u001b[0;34m%\u001b[0m \u001b[0mncx\u001b[0m\u001b[0;34m]\u001b[0m\u001b[0;34m,\u001b[0m \u001b[0my\u001b[0m\u001b[0;34m[\u001b[0m\u001b[0;34m:\u001b[0m\u001b[0;34m,\u001b[0m \u001b[0mj\u001b[0m \u001b[0;34m%\u001b[0m \u001b[0mncy\u001b[0m\u001b[0;34m]\u001b[0m\u001b[0;34m,\u001b[0m \u001b[0mkw\u001b[0m\u001b[0;34m,\u001b[0m \u001b[0mkwargs\u001b[0m\u001b[0;34m)\u001b[0m\u001b[0;34m\u001b[0m\u001b[0;34m\u001b[0m\u001b[0m\n\u001b[0m\u001b[1;32m    406\u001b[0m             \u001b[0mret\u001b[0m\u001b[0;34m.\u001b[0m\u001b[0mappend\u001b[0m\u001b[0;34m(\u001b[0m\u001b[0mseg\u001b[0m\u001b[0;34m)\u001b[0m\u001b[0;34m\u001b[0m\u001b[0;34m\u001b[0m\u001b[0m\n\u001b[1;32m    407\u001b[0m         \u001b[0;32mreturn\u001b[0m \u001b[0mret\u001b[0m\u001b[0;34m\u001b[0m\u001b[0;34m\u001b[0m\u001b[0m\n",
      "\u001b[0;32m~/opt/anaconda3/lib/python3.7/site-packages/matplotlib/axes/_base.py\u001b[0m in \u001b[0;36m_makeline\u001b[0;34m(self, x, y, kw, kwargs)\u001b[0m\n\u001b[1;32m    310\u001b[0m         \u001b[0mdefault_dict\u001b[0m \u001b[0;34m=\u001b[0m \u001b[0mself\u001b[0m\u001b[0;34m.\u001b[0m\u001b[0m_getdefaults\u001b[0m\u001b[0;34m(\u001b[0m\u001b[0mset\u001b[0m\u001b[0;34m(\u001b[0m\u001b[0;34m)\u001b[0m\u001b[0;34m,\u001b[0m \u001b[0mkw\u001b[0m\u001b[0;34m)\u001b[0m\u001b[0;34m\u001b[0m\u001b[0;34m\u001b[0m\u001b[0m\n\u001b[1;32m    311\u001b[0m         \u001b[0mself\u001b[0m\u001b[0;34m.\u001b[0m\u001b[0m_setdefaults\u001b[0m\u001b[0;34m(\u001b[0m\u001b[0mdefault_dict\u001b[0m\u001b[0;34m,\u001b[0m \u001b[0mkw\u001b[0m\u001b[0;34m)\u001b[0m\u001b[0;34m\u001b[0m\u001b[0;34m\u001b[0m\u001b[0m\n\u001b[0;32m--> 312\u001b[0;31m         \u001b[0mseg\u001b[0m \u001b[0;34m=\u001b[0m \u001b[0mmlines\u001b[0m\u001b[0;34m.\u001b[0m\u001b[0mLine2D\u001b[0m\u001b[0;34m(\u001b[0m\u001b[0mx\u001b[0m\u001b[0;34m,\u001b[0m \u001b[0my\u001b[0m\u001b[0;34m,\u001b[0m \u001b[0;34m**\u001b[0m\u001b[0mkw\u001b[0m\u001b[0;34m)\u001b[0m\u001b[0;34m\u001b[0m\u001b[0;34m\u001b[0m\u001b[0m\n\u001b[0m\u001b[1;32m    313\u001b[0m         \u001b[0;32mreturn\u001b[0m \u001b[0mseg\u001b[0m\u001b[0;34m\u001b[0m\u001b[0;34m\u001b[0m\u001b[0m\n\u001b[1;32m    314\u001b[0m \u001b[0;34m\u001b[0m\u001b[0m\n",
      "\u001b[0;32m~/opt/anaconda3/lib/python3.7/site-packages/matplotlib/lines.py\u001b[0m in \u001b[0;36m__init__\u001b[0;34m(self, xdata, ydata, linewidth, linestyle, color, marker, markersize, markeredgewidth, markeredgecolor, markerfacecolor, markerfacecoloralt, fillstyle, antialiased, dash_capstyle, solid_capstyle, dash_joinstyle, solid_joinstyle, pickradius, drawstyle, markevery, **kwargs)\u001b[0m\n\u001b[1;32m    402\u001b[0m         \u001b[0;31m# update kwargs before updating data to give the caller a\u001b[0m\u001b[0;34m\u001b[0m\u001b[0;34m\u001b[0m\u001b[0;34m\u001b[0m\u001b[0m\n\u001b[1;32m    403\u001b[0m         \u001b[0;31m# chance to init axes (and hence unit support)\u001b[0m\u001b[0;34m\u001b[0m\u001b[0;34m\u001b[0m\u001b[0;34m\u001b[0m\u001b[0m\n\u001b[0;32m--> 404\u001b[0;31m         \u001b[0mself\u001b[0m\u001b[0;34m.\u001b[0m\u001b[0mupdate\u001b[0m\u001b[0;34m(\u001b[0m\u001b[0mkwargs\u001b[0m\u001b[0;34m)\u001b[0m\u001b[0;34m\u001b[0m\u001b[0;34m\u001b[0m\u001b[0m\n\u001b[0m\u001b[1;32m    405\u001b[0m         \u001b[0mself\u001b[0m\u001b[0;34m.\u001b[0m\u001b[0mpickradius\u001b[0m \u001b[0;34m=\u001b[0m \u001b[0mpickradius\u001b[0m\u001b[0;34m\u001b[0m\u001b[0;34m\u001b[0m\u001b[0m\n\u001b[1;32m    406\u001b[0m         \u001b[0mself\u001b[0m\u001b[0;34m.\u001b[0m\u001b[0mind_offset\u001b[0m \u001b[0;34m=\u001b[0m \u001b[0;36m0\u001b[0m\u001b[0;34m\u001b[0m\u001b[0;34m\u001b[0m\u001b[0m\n",
      "\u001b[0;32m~/opt/anaconda3/lib/python3.7/site-packages/matplotlib/artist.py\u001b[0m in \u001b[0;36mupdate\u001b[0;34m(self, props)\u001b[0m\n\u001b[1;32m    972\u001b[0m \u001b[0;34m\u001b[0m\u001b[0m\n\u001b[1;32m    973\u001b[0m         \u001b[0;32mwith\u001b[0m \u001b[0mcbook\u001b[0m\u001b[0;34m.\u001b[0m\u001b[0m_setattr_cm\u001b[0m\u001b[0;34m(\u001b[0m\u001b[0mself\u001b[0m\u001b[0;34m,\u001b[0m \u001b[0meventson\u001b[0m\u001b[0;34m=\u001b[0m\u001b[0;32mFalse\u001b[0m\u001b[0;34m)\u001b[0m\u001b[0;34m:\u001b[0m\u001b[0;34m\u001b[0m\u001b[0;34m\u001b[0m\u001b[0m\n\u001b[0;32m--> 974\u001b[0;31m             \u001b[0mret\u001b[0m \u001b[0;34m=\u001b[0m \u001b[0;34m[\u001b[0m\u001b[0m_update_property\u001b[0m\u001b[0;34m(\u001b[0m\u001b[0mself\u001b[0m\u001b[0;34m,\u001b[0m \u001b[0mk\u001b[0m\u001b[0;34m,\u001b[0m \u001b[0mv\u001b[0m\u001b[0;34m)\u001b[0m \u001b[0;32mfor\u001b[0m \u001b[0mk\u001b[0m\u001b[0;34m,\u001b[0m \u001b[0mv\u001b[0m \u001b[0;32min\u001b[0m \u001b[0mprops\u001b[0m\u001b[0;34m.\u001b[0m\u001b[0mitems\u001b[0m\u001b[0;34m(\u001b[0m\u001b[0;34m)\u001b[0m\u001b[0;34m]\u001b[0m\u001b[0;34m\u001b[0m\u001b[0;34m\u001b[0m\u001b[0m\n\u001b[0m\u001b[1;32m    975\u001b[0m \u001b[0;34m\u001b[0m\u001b[0m\n\u001b[1;32m    976\u001b[0m         \u001b[0;32mif\u001b[0m \u001b[0mlen\u001b[0m\u001b[0;34m(\u001b[0m\u001b[0mret\u001b[0m\u001b[0;34m)\u001b[0m\u001b[0;34m:\u001b[0m\u001b[0;34m\u001b[0m\u001b[0;34m\u001b[0m\u001b[0m\n",
      "\u001b[0;32m~/opt/anaconda3/lib/python3.7/site-packages/matplotlib/artist.py\u001b[0m in \u001b[0;36m<listcomp>\u001b[0;34m(.0)\u001b[0m\n\u001b[1;32m    972\u001b[0m \u001b[0;34m\u001b[0m\u001b[0m\n\u001b[1;32m    973\u001b[0m         \u001b[0;32mwith\u001b[0m \u001b[0mcbook\u001b[0m\u001b[0;34m.\u001b[0m\u001b[0m_setattr_cm\u001b[0m\u001b[0;34m(\u001b[0m\u001b[0mself\u001b[0m\u001b[0;34m,\u001b[0m \u001b[0meventson\u001b[0m\u001b[0;34m=\u001b[0m\u001b[0;32mFalse\u001b[0m\u001b[0;34m)\u001b[0m\u001b[0;34m:\u001b[0m\u001b[0;34m\u001b[0m\u001b[0;34m\u001b[0m\u001b[0m\n\u001b[0;32m--> 974\u001b[0;31m             \u001b[0mret\u001b[0m \u001b[0;34m=\u001b[0m \u001b[0;34m[\u001b[0m\u001b[0m_update_property\u001b[0m\u001b[0;34m(\u001b[0m\u001b[0mself\u001b[0m\u001b[0;34m,\u001b[0m \u001b[0mk\u001b[0m\u001b[0;34m,\u001b[0m \u001b[0mv\u001b[0m\u001b[0;34m)\u001b[0m \u001b[0;32mfor\u001b[0m \u001b[0mk\u001b[0m\u001b[0;34m,\u001b[0m \u001b[0mv\u001b[0m \u001b[0;32min\u001b[0m \u001b[0mprops\u001b[0m\u001b[0;34m.\u001b[0m\u001b[0mitems\u001b[0m\u001b[0;34m(\u001b[0m\u001b[0;34m)\u001b[0m\u001b[0;34m]\u001b[0m\u001b[0;34m\u001b[0m\u001b[0;34m\u001b[0m\u001b[0m\n\u001b[0m\u001b[1;32m    975\u001b[0m \u001b[0;34m\u001b[0m\u001b[0m\n\u001b[1;32m    976\u001b[0m         \u001b[0;32mif\u001b[0m \u001b[0mlen\u001b[0m\u001b[0;34m(\u001b[0m\u001b[0mret\u001b[0m\u001b[0;34m)\u001b[0m\u001b[0;34m:\u001b[0m\u001b[0;34m\u001b[0m\u001b[0;34m\u001b[0m\u001b[0m\n",
      "\u001b[0;32m~/opt/anaconda3/lib/python3.7/site-packages/matplotlib/artist.py\u001b[0m in \u001b[0;36m_update_property\u001b[0;34m(self, k, v)\u001b[0m\n\u001b[1;32m    968\u001b[0m                 \u001b[0;32mif\u001b[0m \u001b[0;32mnot\u001b[0m \u001b[0mcallable\u001b[0m\u001b[0;34m(\u001b[0m\u001b[0mfunc\u001b[0m\u001b[0;34m)\u001b[0m\u001b[0;34m:\u001b[0m\u001b[0;34m\u001b[0m\u001b[0;34m\u001b[0m\u001b[0m\n\u001b[1;32m    969\u001b[0m                     raise AttributeError('{!r} object has no property {!r}'\n\u001b[0;32m--> 970\u001b[0;31m                                          .format(type(self).__name__, k))\n\u001b[0m\u001b[1;32m    971\u001b[0m                 \u001b[0;32mreturn\u001b[0m \u001b[0mfunc\u001b[0m\u001b[0;34m(\u001b[0m\u001b[0mv\u001b[0m\u001b[0;34m)\u001b[0m\u001b[0;34m\u001b[0m\u001b[0;34m\u001b[0m\u001b[0m\n\u001b[1;32m    972\u001b[0m \u001b[0;34m\u001b[0m\u001b[0m\n",
      "\u001b[0;31mAttributeError\u001b[0m: 'Line2D' object has no property 'type'"
     ]
    },
    {
     "data": {
      "image/png": "[encoded data removed]",
      "text/plain": [
       "<Figure size 1512x504 with 1 Axes>"
      ]
     },
     "metadata": {
      "needs_background": "light"
     },
     "output_type": "display_data"
    }
   ],
   "source": [
    "# Comments analysis\n",
    "commentwork = work.copy()\n",
    "\n",
    "commentwork = commentwork[commentwork['Comments'] > 68]\n",
    "# x = work['Score']\n",
    "commentwork['Created'] = pd.to_datetime(work['Created'], errors='coerce')\n",
    "\n",
    "\n",
    "commentwork.drop(['ID', 'Score', 'Created'], axis=1, inplace = True)\n",
    "\n",
    "\n",
    "# commentwork.groupby(work[\"Created\"].dt.minute).count().plot( kind=\"bar\", figsize = [20,10], \n",
    "#                                                             title = 'Count of Average Comments per Hour')\n",
    "data1 = commentwork.groupby(work[\"Created\"].dt.minute).count()\n",
    "fig, ax = plt.subplots(figsize=([21,7]))\n",
    "\n",
    "plt.plot(range(0,60),data1, type = 'hist')\n",
    "data1"
   ]
  },
  {
   "cell_type": "code",
   "execution_count": 261,
   "metadata": {},
   "outputs": [
    {
     "data": {
      "text/plain": [
       "<BarContainer object of 77743 artists>"
      ]
     },
     "execution_count": 261,
     "metadata": {},
     "output_type": "execute_result"
    },
    {
     "data": {
      "image/png": "[encoded data removed]",
      "text/plain": [
       "<Figure size 1512x504 with 1 Axes>"
      ]
     },
     "metadata": {
      "needs_background": "light"
     },
     "output_type": "display_data"
    }
   ],
   "source": [
    "# Score Analysis\n",
    "scorework = work.copy()\n",
    "\n",
    "scorework = scorework[scorework['Score'] > 2385]\n",
    "# x = work['Score']\n",
    "scorework['Created'] = pd.to_datetime(work['Created'], errors='coerce')\n",
    "\n",
    "scorework.drop(['ID', 'Comments', 'Created'], axis=1, inplace = True)\n",
    "# work.drop[['']]\n",
    "# scorework.groupby(work[\"Created\"].dt.minute).count().plot( kind=\"bar\", \n",
    "#                                                           figsize = [20,10], \n",
    "#                                                           title = 'Count of Average Score of Reddit posts for each minute in an hour')\n",
    "\n",
    "fig, ax = plt.subplots(figsize=([21,7]))\n",
    "\n",
    "plt.bar(work[\"Created\"].dt.minute.count(), work.Score)\n",
    "# plt.xlabel(\"Minute of hour (min)\")\n",
    "\n",
    "\n",
    "\n",
    "# plt.ylabel('Average score')\n",
    "\n",
    "# scorework"
   ]
  },
  {
   "cell_type": "code",
   "execution_count": 186,
   "metadata": {},
   "outputs": [
    {
     "data": {
      "text/html": [
       "<div>\n",
       "<style scoped>\n",
       "    .dataframe tbody tr th:only-of-type {\n",
       "        vertical-align: middle;\n",
       "    }\n",
       "\n",
       "    .dataframe tbody tr th {\n",
       "        vertical-align: top;\n",
       "    }\n",
       "\n",
       "    .dataframe thead th {\n",
       "        text-align: right;\n",
       "    }\n",
       "</style>\n",
       "<table border=\"1\" class=\"dataframe\">\n",
       "  <thead>\n",
       "    <tr style=\"text-align: right;\">\n",
       "      <th></th>\n",
       "      <th>ID</th>\n",
       "      <th>Score</th>\n",
       "      <th>Comments</th>\n",
       "      <th>Created</th>\n",
       "      <th>68+ comments?</th>\n",
       "    </tr>\n",
       "  </thead>\n",
       "  <tbody>\n",
       "    <tr>\n",
       "      <td>3111129</td>\n",
       "      <td>ek33p5</td>\n",
       "      <td>151464</td>\n",
       "      <td>1069</td>\n",
       "      <td>2020-01-05 05:50:50</td>\n",
       "      <td>1</td>\n",
       "    </tr>\n",
       "    <tr>\n",
       "      <td>4887766</td>\n",
       "      <td>ekehvg</td>\n",
       "      <td>146999</td>\n",
       "      <td>2463</td>\n",
       "      <td>2020-01-05 23:39:27</td>\n",
       "      <td>1</td>\n",
       "    </tr>\n",
       "    <tr>\n",
       "      <td>4797052</td>\n",
       "      <td>ekcm64</td>\n",
       "      <td>138583</td>\n",
       "      <td>3878</td>\n",
       "      <td>2020-01-05 20:48:52</td>\n",
       "      <td>1</td>\n",
       "    </tr>\n",
       "    <tr>\n",
       "      <td>2177414</td>\n",
       "      <td>ejwxed</td>\n",
       "      <td>133345</td>\n",
       "      <td>7105</td>\n",
       "      <td>2020-01-04 21:59:08</td>\n",
       "      <td>1</td>\n",
       "    </tr>\n",
       "    <tr>\n",
       "      <td>6266062</td>\n",
       "      <td>el1g2a</td>\n",
       "      <td>125388</td>\n",
       "      <td>1690</td>\n",
       "      <td>2020-01-07 06:23:25</td>\n",
       "      <td>1</td>\n",
       "    </tr>\n",
       "    <tr>\n",
       "      <td>...</td>\n",
       "      <td>...</td>\n",
       "      <td>...</td>\n",
       "      <td>...</td>\n",
       "      <td>...</td>\n",
       "      <td>...</td>\n",
       "    </tr>\n",
       "    <tr>\n",
       "      <td>2490116</td>\n",
       "      <td>ekc0yj</td>\n",
       "      <td>99</td>\n",
       "      <td>752</td>\n",
       "      <td>2020-01-05 19:44:43</td>\n",
       "      <td>1</td>\n",
       "    </tr>\n",
       "    <tr>\n",
       "      <td>4887924</td>\n",
       "      <td>ekrkol</td>\n",
       "      <td>97</td>\n",
       "      <td>2677</td>\n",
       "      <td>2020-01-06 17:04:16</td>\n",
       "      <td>1</td>\n",
       "    </tr>\n",
       "    <tr>\n",
       "      <td>805336</td>\n",
       "      <td>ejxydi</td>\n",
       "      <td>94</td>\n",
       "      <td>644</td>\n",
       "      <td>2020-01-04 23:30:25</td>\n",
       "      <td>1</td>\n",
       "    </tr>\n",
       "    <tr>\n",
       "      <td>3002887</td>\n",
       "      <td>ekgc53</td>\n",
       "      <td>93</td>\n",
       "      <td>366</td>\n",
       "      <td>2020-01-06 01:51:51</td>\n",
       "      <td>1</td>\n",
       "    </tr>\n",
       "    <tr>\n",
       "      <td>2626099</td>\n",
       "      <td>ekep0w</td>\n",
       "      <td>58</td>\n",
       "      <td>355</td>\n",
       "      <td>2020-01-05 23:54:33</td>\n",
       "      <td>1</td>\n",
       "    </tr>\n",
       "  </tbody>\n",
       "</table>\n",
       "<p>2741 rows × 5 columns</p>\n",
       "</div>"
      ],
      "text/plain": [
       "             ID   Score  Comments             Created  68+ comments?\n",
       "3111129  ek33p5  151464      1069 2020-01-05 05:50:50              1\n",
       "4887766  ekehvg  146999      2463 2020-01-05 23:39:27              1\n",
       "4797052  ekcm64  138583      3878 2020-01-05 20:48:52              1\n",
       "2177414  ejwxed  133345      7105 2020-01-04 21:59:08              1\n",
       "6266062  el1g2a  125388      1690 2020-01-07 06:23:25              1\n",
       "...         ...     ...       ...                 ...            ...\n",
       "2490116  ekc0yj      99       752 2020-01-05 19:44:43              1\n",
       "4887924  ekrkol      97      2677 2020-01-06 17:04:16              1\n",
       "805336   ejxydi      94       644 2020-01-04 23:30:25              1\n",
       "3002887  ekgc53      93       366 2020-01-06 01:51:51              1\n",
       "2626099  ekep0w      58       355 2020-01-05 23:54:33              1\n",
       "\n",
       "[2741 rows x 5 columns]"
      ]
     },
     "execution_count": 186,
     "metadata": {},
     "output_type": "execute_result"
    }
   ],
   "source": [
    "study_df = work.copy()\n",
    "study_df['68+ comments?'] = study_df['Comments'].apply(lambda x: 1 if x > 68 else 0)\n",
    "# df['Normal'] = df.Speed.apply(lambda x: 1 if x == \"Normal\" else 0)\n",
    "\n",
    "df_high_comments = study_df[study_df['Comments'] > 300] \n",
    "df_high_comments"
   ]
  },
  {
   "cell_type": "code",
   "execution_count": 194,
   "metadata": {},
   "outputs": [
    {
     "data": {
      "text/plain": [
       "Ttest_indResult(statistic=51.87214840434686, pvalue=0.0)"
      ]
     },
     "execution_count": 194,
     "metadata": {},
     "output_type": "execute_result"
    }
   ],
   "source": [
    "df_high_score = study_df[study_df['Score']>5000]\n",
    "# Is there a significant relationship between high score and high amount of comments useless test\n",
    "stats.ttest_ind(df_high_score.Score.sample(2741), df_high_comments.Comments)\n"
   ]
  },
  {
   "cell_type": "code",
   "execution_count": 192,
   "metadata": {},
   "outputs": [
    {
     "data": {
      "text/plain": [
       "3111129    1069\n",
       "4887766    2463\n",
       "4797052    3878\n",
       "2177414    7105\n",
       "6266062    1690\n",
       "           ... \n",
       "2490116     752\n",
       "4887924    2677\n",
       "805336      644\n",
       "3002887     366\n",
       "2626099     355\n",
       "Name: Comments, Length: 2741, dtype: int64"
      ]
     },
     "execution_count": 192,
     "metadata": {},
     "output_type": "execute_result"
    }
   ],
   "source": [
    "df_high_comments.Comments"
   ]
  },
  {
   "cell_type": "code",
   "execution_count": 196,
   "metadata": {},
   "outputs": [
    {
     "data": {
      "image/png": "[encoded data removed]",
      "text/plain": [
       "<Figure size 1080x360 with 1 Axes>"
      ]
     },
     "metadata": {
      "needs_background": "light"
     },
     "output_type": "display_data"
    }
   ],
   "source": [
    "# df_high_score.groupby(df_high_score[\"Created\"].dt.hour).count().plot( kind=\"bar\")\n",
    "# commentwork.groupby(work[\"Created\"].dt.hour).count().plot( kind=\"bar\", figsize = [20,10], stacked = True)\n",
    "# scorework.groupby(work[\"Created\"].dt.hour).count().plot( kind=\"bar\", figsize = [20,10], stacked = True)\n",
    "\n",
    "\n",
    "test_df = commentwork.groupby(work[\"Created\"].dt.hour).count()\n",
    "test_df['score']= scorework.groupby(work[\"Created\"].dt.hour).count()\n",
    "test_df['Created'] = list(range(0,24))\n",
    "fig, ax = plt.subplots(figsize=([15,5]))\n",
    "plt.plot(test_df.Created, test_df.score, color = 'black', alpha = 1, label = 'Score counts', linestyle='dashed', marker = '*', markerfacecolor='White')\n",
    "plt.plot(test_df.Created, test_df.Comments,color = 'black',alpha = 1, label = 'Comment counts', linestyle='dashed', marker = '*', markerfacecolor = 'White')\n",
    "rects1 = ax.bar(test_df.Created, test_df.score, color='r', alpha = .5)\n",
    "rects2 = ax.bar(test_df.Created, test_df.Comments, color = 'b', alpha= .5)\n",
    "# plt.figur(figsize=([40,10]))\n",
    "\n",
    "ax.set_xlabel('Hour of Day')\n",
    "ax.set_ylabel('Count of total Score (red) and total count of Comments (purple)')\n",
    "ax.legend()\n",
    "ax.set_title(\"Comparison of counts of post's score (score>2385) and number of \\n  post comments (comment count > 68) as a function of time in hours\")\n",
    "plt.show()\n"
   ]
  },
  {
   "cell_type": "code",
   "execution_count": 335,
   "metadata": {},
   "outputs": [
    {
     "data": {
      "text/plain": [
       "Ttest_indResult(statistic=array([11.4070408]), pvalue=array([5.25516666e-15]))"
      ]
     },
     "execution_count": 335,
     "metadata": {},
     "output_type": "execute_result"
    }
   ],
   "source": [
    "# Analysis of the score count and comment count by date time, dont use this.\n",
    "stats.ttest_ind(scorework.groupby(work[\"Created\"].dt.hour).count(), commentwork.groupby(work[\"Created\"].dt.hour).count())"
   ]
  },
  {
   "cell_type": "code",
   "execution_count": 262,
   "metadata": {},
   "outputs": [
    {
     "data": {
      "text/plain": [
       "(83.67573851311334,\n",
       " 7.98404737381813e-09,\n",
       " 23,\n",
       " array([[770.99510806, 757.27110105, 656.30162091, 621.99160339,\n",
       "         558.76314252, 546.99970794, 623.46203271, 567.09557535,\n",
       "         544.54899241, 538.17713201, 502.39668516, 438.18793808,\n",
       "         430.83579147, 354.86360981, 343.59031834, 328.39588201,\n",
       "         392.11448598, 412.21035339, 485.2416764 , 533.76584404,\n",
       "         653.85090537, 746.48795269, 795.99240654, 822.46013435],\n",
       "        [802.00489194, 787.72889895, 682.69837909, 647.00839661,\n",
       "         581.23685748, 569.00029206, 648.53796729, 589.90442465,\n",
       "         566.45100759, 559.82286799, 522.60331484, 455.81206192,\n",
       "         448.16420853, 369.13639019, 357.40968166, 341.60411799,\n",
       "         407.88551402, 428.78964661, 504.7583236 , 555.23415596,\n",
       "         680.14909463, 776.51204731, 828.00759346, 855.53986565]]))"
      ]
     },
     "execution_count": 262,
     "metadata": {},
     "output_type": "execute_result"
    }
   ],
   "source": [
    "# Analysis chi square work\n",
    "# DO MORE HERE JAMES, analyze this shit\n",
    "\n",
    "\n",
    "Scorearray = scorework.groupby(work[\"Created\"].dt.hour).count().Score.values\n",
    "Commentarray = commentwork.groupby(work[\"Created\"].dt.hour).count().Comments.values\n",
    "\n",
    "# degrees of freedom = (#rows - 1)(#columns -1)\n",
    "stats.chi2_contingency([Scorearray, Commentarray])"
   ]
  },
  {
   "cell_type": "code",
   "execution_count": 321,
   "metadata": {},
   "outputs": [
    {
     "data": {
      "text/plain": [
       "<pandas.core.groupby.generic.DataFrameGroupBy object at 0x147143f50>"
      ]
     },
     "execution_count": 321,
     "metadata": {},
     "output_type": "execute_result"
    }
   ],
   "source": [
    "work[\"Created\"].dt.hour.count()\n",
    "scorework.groupby(work[\"Created\"].dt.hour)\n",
    "# print(scorework.groupby(work[\"Created\"].dt.hour).count())\n",
    "# print(commentwork.groupby(work[\"Created\"].dt.hour).count())\n"
   ]
  },
  {
   "cell_type": "code",
   "execution_count": 345,
   "metadata": {},
   "outputs": [
    {
     "data": {
      "text/html": [
       "<div>\n",
       "<style scoped>\n",
       "    .dataframe tbody tr th:only-of-type {\n",
       "        vertical-align: middle;\n",
       "    }\n",
       "\n",
       "    .dataframe tbody tr th {\n",
       "        vertical-align: top;\n",
       "    }\n",
       "\n",
       "    .dataframe thead th {\n",
       "        text-align: right;\n",
       "    }\n",
       "</style>\n",
       "<table border=\"1\" class=\"dataframe\">\n",
       "  <thead>\n",
       "    <tr style=\"text-align: right;\">\n",
       "      <th></th>\n",
       "      <th>Comments</th>\n",
       "    </tr>\n",
       "    <tr>\n",
       "      <th>Created</th>\n",
       "      <th></th>\n",
       "    </tr>\n",
       "  </thead>\n",
       "  <tbody>\n",
       "    <tr>\n",
       "      <td>0</td>\n",
       "      <td>592</td>\n",
       "    </tr>\n",
       "    <tr>\n",
       "      <td>1</td>\n",
       "      <td>560</td>\n",
       "    </tr>\n",
       "    <tr>\n",
       "      <td>2</td>\n",
       "      <td>490</td>\n",
       "    </tr>\n",
       "    <tr>\n",
       "      <td>3</td>\n",
       "      <td>477</td>\n",
       "    </tr>\n",
       "    <tr>\n",
       "      <td>4</td>\n",
       "      <td>412</td>\n",
       "    </tr>\n",
       "    <tr>\n",
       "      <td>5</td>\n",
       "      <td>432</td>\n",
       "    </tr>\n",
       "    <tr>\n",
       "      <td>6</td>\n",
       "      <td>460</td>\n",
       "    </tr>\n",
       "    <tr>\n",
       "      <td>7</td>\n",
       "      <td>420</td>\n",
       "    </tr>\n",
       "    <tr>\n",
       "      <td>8</td>\n",
       "      <td>407</td>\n",
       "    </tr>\n",
       "    <tr>\n",
       "      <td>9</td>\n",
       "      <td>385</td>\n",
       "    </tr>\n",
       "    <tr>\n",
       "      <td>10</td>\n",
       "      <td>370</td>\n",
       "    </tr>\n",
       "    <tr>\n",
       "      <td>11</td>\n",
       "      <td>310</td>\n",
       "    </tr>\n",
       "    <tr>\n",
       "      <td>12</td>\n",
       "      <td>321</td>\n",
       "    </tr>\n",
       "    <tr>\n",
       "      <td>13</td>\n",
       "      <td>249</td>\n",
       "    </tr>\n",
       "    <tr>\n",
       "      <td>14</td>\n",
       "      <td>215</td>\n",
       "    </tr>\n",
       "    <tr>\n",
       "      <td>15</td>\n",
       "      <td>215</td>\n",
       "    </tr>\n",
       "    <tr>\n",
       "      <td>16</td>\n",
       "      <td>255</td>\n",
       "    </tr>\n",
       "    <tr>\n",
       "      <td>17</td>\n",
       "      <td>263</td>\n",
       "    </tr>\n",
       "    <tr>\n",
       "      <td>18</td>\n",
       "      <td>315</td>\n",
       "    </tr>\n",
       "    <tr>\n",
       "      <td>19</td>\n",
       "      <td>353</td>\n",
       "    </tr>\n",
       "    <tr>\n",
       "      <td>20</td>\n",
       "      <td>453</td>\n",
       "    </tr>\n",
       "    <tr>\n",
       "      <td>21</td>\n",
       "      <td>530</td>\n",
       "    </tr>\n",
       "    <tr>\n",
       "      <td>22</td>\n",
       "      <td>581</td>\n",
       "    </tr>\n",
       "    <tr>\n",
       "      <td>23</td>\n",
       "      <td>605</td>\n",
       "    </tr>\n",
       "  </tbody>\n",
       "</table>\n",
       "</div>"
      ],
      "text/plain": [
       "         Comments\n",
       "Created          \n",
       "0             592\n",
       "1             560\n",
       "2             490\n",
       "3             477\n",
       "4             412\n",
       "5             432\n",
       "6             460\n",
       "7             420\n",
       "8             407\n",
       "9             385\n",
       "10            370\n",
       "11            310\n",
       "12            321\n",
       "13            249\n",
       "14            215\n",
       "15            215\n",
       "16            255\n",
       "17            263\n",
       "18            315\n",
       "19            353\n",
       "20            453\n",
       "21            530\n",
       "22            581\n",
       "23            605"
      ]
     },
     "execution_count": 345,
     "metadata": {},
     "output_type": "execute_result"
    }
   ],
   "source": [
    "commentwork.groupby(work[\"Created\"].dt.hour).count()"
   ]
  },
  {
   "cell_type": "code",
   "execution_count": 394,
   "metadata": {},
   "outputs": [
    {
     "data": {
      "text/plain": [
       "LinregressResult(slope=2.6129130003640153, intercept=148.0054702699988, rvalue=0.9781518587229636, pvalue=1.6865157215254291e-16, stderr=0.11839800556581989)"
      ]
     },
     "execution_count": 394,
     "metadata": {},
     "output_type": "execute_result"
    }
   ],
   "source": [
    "\n",
    "# Levene test's for homogeneity of variance. based on this result, our distributions have homogeneity of variance. \n",
    "# LeveneResult(statistic=17.134951278114134, pvalue=0.0001468753110108723)\n",
    "\n",
    "# Test to see if the distributions of comments and scores are distributed the same way and check for correlation. Based on these results, \n",
    "\n",
    "linregress(test_df.Comments, test_df.score)\n"
   ]
  },
  {
   "cell_type": "code",
   "execution_count": 396,
   "metadata": {},
   "outputs": [
    {
     "data": {
      "text/plain": [
       "LeveneResult(statistic=17.134951278114134, pvalue=0.0001468753110108723)"
      ]
     },
     "execution_count": 396,
     "metadata": {},
     "output_type": "execute_result"
    }
   ],
   "source": [
    "stats.levene(test_df.Comments, test_df.score)"
   ]
  },
  {
   "cell_type": "code",
   "execution_count": 160,
   "metadata": {},
   "outputs": [
    {
     "data": {
      "text/plain": [
       "101"
      ]
     },
     "execution_count": 160,
     "metadata": {},
     "output_type": "execute_result"
    }
   ],
   "source": [
    "commentwork.Comments.min()"
   ]
  },
  {
   "cell_type": "code",
   "execution_count": 256,
   "metadata": {},
   "outputs": [
    {
     "data": {
      "text/plain": [
       "Timedelta('4 days 14:37:01')"
      ]
     },
     "execution_count": 256,
     "metadata": {},
     "output_type": "execute_result"
    }
   ],
   "source": [
    "# Next step: do an analysis of the data to determine if there is a significant difference in \n",
    "# average score values in the beginning of the day, and the end of the day. then do the same for comments\n"
   ]
  },
  {
   "cell_type": "code",
   "execution_count": null,
   "metadata": {},
   "outputs": [],
   "source": []
  }
 ],
 "metadata": {
  "kernelspec": {
   "display_name": "Python 3",
   "language": "python",
   "name": "python3"
  },
  "language_info": {
   "codemirror_mode": {
    "name": "ipython",
    "version": 3
   },
   "file_extension": ".py",
   "mimetype": "text/x-python",
   "name": "python",
   "nbconvert_exporter": "python",
   "pygments_lexer": "ipython3",
   "version": "3.7.4"
  }
 },
 "nbformat": 4,
 "nbformat_minor": 2
}
