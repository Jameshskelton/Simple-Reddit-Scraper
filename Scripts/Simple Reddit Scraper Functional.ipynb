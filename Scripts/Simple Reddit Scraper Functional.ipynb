{
 "cells": [
  {
   "cell_type": "code",
   "execution_count": 1,
   "metadata": {},
   "outputs": [],
   "source": [
    "#! usr/bin/env python3\n",
    "import praw\n",
    "import pandas as pd\n",
    "from datetime import datetime as dt\n",
    "import time, calendar\n",
    "import psycopg2\n",
    "import time\n",
    "import pymongo\n",
    "starttime=time.time()\n",
    "import matplotlib.pyplot as plt\n",
    "import numpy as np\n",
    "from matplotlib import colors\n",
    "from matplotlib.ticker import PercentFormatter\n",
    "import scipy.stats as stats\n",
    "from scipy.stats import linregress\n"
   ]
  },
  {
   "cell_type": "code",
   "execution_count": null,
   "metadata": {},
   "outputs": [],
   "source": [
    "def simple_reddit_scraper():\n",
    "    reddit = praw.Reddit(client_id='YOUR CLIENT_ID', \\\n",
    "                     client_secret='YOUR CLIENT_SECRET', \\\n",
    "                     user_agent='Sub Scraper', \\\n",
    "                     username='YOUR USERNAME HERE', \\\n",
    "                     password='YOUR PASSWORD HERE')\n",
    "\n",
    "    subreddit = reddit.subreddit('all')\n",
    "    top_subreddit = subreddit.hot(limit=10000)\n",
    "\n",
    "# Use list comprehension to create a list of lists representing each post\n",
    "    df_rows = [[submission.id, submission.title, submission.selftext, submission.score, submission.url, submission.num_comments, dt.utcfromtimestamp(submission.created)] for submission in top_subreddit]\n",
    "# Create df using rows, set column titles\n",
    "    df = pd.DataFrame(df_rows, columns=['ID', 'Title', 'Body', 'Score', 'URL', 'Comments', 'Created'])\n",
    "    return df\n",
    "\n",
    "scraped_df = simple_reddit_scraper()\n"
   ]
  },
  {
   "cell_type": "code",
   "execution_count": null,
   "metadata": {},
   "outputs": [],
   "source": [
    "# Run this while loop to grab a new df selection each 60 seconds and then append it to the original scraped dataframe\n",
    "while True:\n",
    "    dataframe = simple_reddit_scraper()\n",
    "    scraped_df = pd.concat([scraped_df, dataframe], join  = 'outer', axis = 0, ignore_index = True)\n",
    "    time.sleep(60.0 - ((time.time() - starttime) % 60.0))"
   ]
  },
  {
   "cell_type": "code",
   "execution_count": 2,
   "metadata": {},
   "outputs": [
    {
     "ename": "NameError",
     "evalue": "name 'cleaned_final' is not defined",
     "output_type": "error",
     "traceback": [
      "\u001b[0;31m---------------------------------------------------------------------------\u001b[0m",
      "\u001b[0;31mNameError\u001b[0m                                 Traceback (most recent call last)",
      "\u001b[0;32m<ipython-input-2-e972e8d83c24>\u001b[0m in \u001b[0;36m<module>\u001b[0;34m\u001b[0m\n\u001b[1;32m      1\u001b[0m \u001b[0mfile\u001b[0m \u001b[0;34m=\u001b[0m \u001b[0;34m\"df_reddit.csv\"\u001b[0m\u001b[0;34m\u001b[0m\u001b[0;34m\u001b[0m\u001b[0m\n\u001b[0;32m----> 2\u001b[0;31m \u001b[0mcleaned_final\u001b[0m\u001b[0;34m.\u001b[0m\u001b[0mto_csv\u001b[0m\u001b[0;34m(\u001b[0m\u001b[0mfile\u001b[0m\u001b[0;34m,\u001b[0m \u001b[0msep\u001b[0m\u001b[0;34m=\u001b[0m\u001b[0;34m'\\t'\u001b[0m\u001b[0;34m,\u001b[0m \u001b[0mencoding\u001b[0m\u001b[0;34m=\u001b[0m\u001b[0;34m'utf-8'\u001b[0m\u001b[0;34m)\u001b[0m\u001b[0;34m\u001b[0m\u001b[0;34m\u001b[0m\u001b[0m\n\u001b[0m",
      "\u001b[0;31mNameError\u001b[0m: name 'cleaned_final' is not defined"
     ]
    }
   ],
   "source": [
    "# Write to file here\n",
    "file = \"df_reddit.csv\"\n",
    "cleaned_final.to_csv(file, sep='\\t', encoding='utf-8', parse_dates = ['Created'])\n",
    "\n"
   ]
  }
 ],
 "metadata": {
  "kernelspec": {
   "display_name": "Python 3",
   "language": "python",
   "name": "python3"
  },
  "language_info": {
   "codemirror_mode": {
    "name": "ipython",
    "version": 3
   },
   "file_extension": ".py",
   "mimetype": "text/x-python",
   "name": "python",
   "nbconvert_exporter": "python",
   "pygments_lexer": "ipython3",
   "version": "3.7.4"
  }
 },
 "nbformat": 4,
 "nbformat_minor": 2
}